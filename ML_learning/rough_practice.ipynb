{
 "cells": [
  {
   "cell_type": "code",
   "execution_count": 1,
   "id": "d573c1a4",
   "metadata": {},
   "outputs": [],
   "source": [
    "import numpy as np"
   ]
  },
  {
   "cell_type": "code",
   "execution_count": 2,
   "id": "e3b32d2e",
   "metadata": {},
   "outputs": [],
   "source": [
    "A = np.array([[2,1,1],[3,2,1],[2,1,2]])"
   ]
  },
  {
   "cell_type": "code",
   "execution_count": 5,
   "id": "37a2ecc1",
   "metadata": {},
   "outputs": [],
   "source": [
    "B = np.linalg.inv(A)"
   ]
  },
  {
   "cell_type": "code",
   "execution_count": 7,
   "id": "0aee5a29",
   "metadata": {},
   "outputs": [],
   "source": [
    "B = np.array([[1,1],[2,-1]])"
   ]
  },
  {
   "cell_type": "code",
   "execution_count": 8,
   "id": "d31b8017",
   "metadata": {},
   "outputs": [],
   "source": [
    "B2 = np.array([[1,0], [0,1]])"
   ]
  },
  {
   "cell_type": "code",
   "execution_count": 9,
   "id": "fa73a01a",
   "metadata": {},
   "outputs": [],
   "source": [
    "B2_inv = np.linalg.inv(B2)"
   ]
  },
  {
   "cell_type": "code",
   "execution_count": 10,
   "id": "6745275d",
   "metadata": {},
   "outputs": [
    {
     "data": {
      "text/plain": [
       "array([[ 1.,  1.],\n",
       "       [ 2., -1.]])"
      ]
     },
     "execution_count": 10,
     "metadata": {},
     "output_type": "execute_result"
    }
   ],
   "source": [
    "B2_inv @ B"
   ]
  }
 ],
 "metadata": {
  "kernelspec": {
   "display_name": "Python 3",
   "language": "python",
   "name": "python3"
  },
  "language_info": {
   "codemirror_mode": {
    "name": "ipython",
    "version": 3
   },
   "file_extension": ".py",
   "mimetype": "text/x-python",
   "name": "python",
   "nbconvert_exporter": "python",
   "pygments_lexer": "ipython3",
   "version": "3.8.8"
  }
 },
 "nbformat": 4,
 "nbformat_minor": 5
}
