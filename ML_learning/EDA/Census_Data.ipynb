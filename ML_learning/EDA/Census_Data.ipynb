{
 "cells": [
  {
   "cell_type": "code",
   "execution_count": 1,
   "id": "12fdab67",
   "metadata": {},
   "outputs": [],
   "source": [
    "import pandas as pd"
   ]
  },
  {
   "cell_type": "code",
   "execution_count": 3,
   "id": "b8354733",
   "metadata": {},
   "outputs": [],
   "source": [
    "census_df = pd.read_excel('census+data.xlsx')"
   ]
  },
  {
   "cell_type": "code",
   "execution_count": 4,
   "id": "765666c3",
   "metadata": {},
   "outputs": [
    {
     "data": {
      "text/html": [
       "<div>\n",
       "<style scoped>\n",
       "    .dataframe tbody tr th:only-of-type {\n",
       "        vertical-align: middle;\n",
       "    }\n",
       "\n",
       "    .dataframe tbody tr th {\n",
       "        vertical-align: top;\n",
       "    }\n",
       "\n",
       "    .dataframe thead th {\n",
       "        text-align: right;\n",
       "    }\n",
       "</style>\n",
       "<table border=\"1\" class=\"dataframe\">\n",
       "  <thead>\n",
       "    <tr style=\"text-align: right;\">\n",
       "      <th></th>\n",
       "      <th>Unnamed: 0</th>\n",
       "      <th>Unnamed: 1</th>\n",
       "      <th>Unnamed: 2</th>\n",
       "      <th>Unnamed: 3</th>\n",
       "      <th>Unnamed: 4</th>\n",
       "      <th>C-8  EDUCATIONAL LEVEL BY AGE AND SEX FOR POPULATION AGE 7 AND ABOVE - 2011</th>\n",
       "      <th>Unnamed: 6</th>\n",
       "      <th>Unnamed: 7</th>\n",
       "      <th>Unnamed: 8</th>\n",
       "      <th>Unnamed: 9</th>\n",
       "      <th>...</th>\n",
       "      <th>Unnamed: 36</th>\n",
       "      <th>Unnamed: 37</th>\n",
       "      <th>Unnamed: 38</th>\n",
       "      <th>Unnamed: 39</th>\n",
       "      <th>Unnamed: 40</th>\n",
       "      <th>Unnamed: 41</th>\n",
       "      <th>Unnamed: 42</th>\n",
       "      <th>Unnamed: 43</th>\n",
       "      <th>Unnamed: 44</th>\n",
       "      <th>Unnamed: 45</th>\n",
       "    </tr>\n",
       "  </thead>\n",
       "  <tbody>\n",
       "    <tr>\n",
       "      <th>0</th>\n",
       "      <td>Table</td>\n",
       "      <td>State</td>\n",
       "      <td>Distt.</td>\n",
       "      <td>Area Name</td>\n",
       "      <td>Total/</td>\n",
       "      <td>Age-group</td>\n",
       "      <td>Total</td>\n",
       "      <td>NaN</td>\n",
       "      <td>NaN</td>\n",
       "      <td>Illiterate</td>\n",
       "      <td>...</td>\n",
       "      <td>NaN</td>\n",
       "      <td>NaN</td>\n",
       "      <td>NaN</td>\n",
       "      <td>NaN</td>\n",
       "      <td>NaN</td>\n",
       "      <td>NaN</td>\n",
       "      <td>NaN</td>\n",
       "      <td>NaN</td>\n",
       "      <td>NaN</td>\n",
       "      <td>NaN</td>\n",
       "    </tr>\n",
       "    <tr>\n",
       "      <th>1</th>\n",
       "      <td>Name</td>\n",
       "      <td>Code</td>\n",
       "      <td>Code</td>\n",
       "      <td>NaN</td>\n",
       "      <td>Rural/</td>\n",
       "      <td>NaN</td>\n",
       "      <td>NaN</td>\n",
       "      <td>NaN</td>\n",
       "      <td>NaN</td>\n",
       "      <td>NaN</td>\n",
       "      <td>...</td>\n",
       "      <td>Technical diploma or certificate</td>\n",
       "      <td>NaN</td>\n",
       "      <td>NaN</td>\n",
       "      <td>Graduate &amp; above</td>\n",
       "      <td>NaN</td>\n",
       "      <td>NaN</td>\n",
       "      <td>Unclassified</td>\n",
       "      <td>NaN</td>\n",
       "      <td>NaN</td>\n",
       "      <td>NaN</td>\n",
       "    </tr>\n",
       "    <tr>\n",
       "      <th>2</th>\n",
       "      <td>NaN</td>\n",
       "      <td>NaN</td>\n",
       "      <td>NaN</td>\n",
       "      <td>NaN</td>\n",
       "      <td>Urban/</td>\n",
       "      <td>NaN</td>\n",
       "      <td>NaN</td>\n",
       "      <td>NaN</td>\n",
       "      <td>NaN</td>\n",
       "      <td>NaN</td>\n",
       "      <td>...</td>\n",
       "      <td>not equal to degree</td>\n",
       "      <td>NaN</td>\n",
       "      <td>NaN</td>\n",
       "      <td>NaN</td>\n",
       "      <td>NaN</td>\n",
       "      <td>NaN</td>\n",
       "      <td>NaN</td>\n",
       "      <td>NaN</td>\n",
       "      <td>NaN</td>\n",
       "      <td>NaN</td>\n",
       "    </tr>\n",
       "    <tr>\n",
       "      <th>3</th>\n",
       "      <td>NaN</td>\n",
       "      <td>NaN</td>\n",
       "      <td>NaN</td>\n",
       "      <td>NaN</td>\n",
       "      <td>NaN</td>\n",
       "      <td>NaN</td>\n",
       "      <td>Persons</td>\n",
       "      <td>Males</td>\n",
       "      <td>Females</td>\n",
       "      <td>Persons</td>\n",
       "      <td>...</td>\n",
       "      <td>Persons</td>\n",
       "      <td>Males</td>\n",
       "      <td>Females</td>\n",
       "      <td>Persons</td>\n",
       "      <td>Males</td>\n",
       "      <td>Females</td>\n",
       "      <td>Persons</td>\n",
       "      <td>Males</td>\n",
       "      <td>Females</td>\n",
       "      <td>NaN</td>\n",
       "    </tr>\n",
       "    <tr>\n",
       "      <th>4</th>\n",
       "      <td>NaN</td>\n",
       "      <td>NaN</td>\n",
       "      <td>NaN</td>\n",
       "      <td>NaN</td>\n",
       "      <td>NaN</td>\n",
       "      <td>1</td>\n",
       "      <td>2</td>\n",
       "      <td>3</td>\n",
       "      <td>4</td>\n",
       "      <td>5</td>\n",
       "      <td>...</td>\n",
       "      <td>32</td>\n",
       "      <td>33</td>\n",
       "      <td>34</td>\n",
       "      <td>35</td>\n",
       "      <td>36</td>\n",
       "      <td>37</td>\n",
       "      <td>38</td>\n",
       "      <td>39</td>\n",
       "      <td>40</td>\n",
       "      <td>NaN</td>\n",
       "    </tr>\n",
       "  </tbody>\n",
       "</table>\n",
       "<p>5 rows × 46 columns</p>\n",
       "</div>"
      ],
      "text/plain": [
       "  Unnamed: 0 Unnamed: 1 Unnamed: 2 Unnamed: 3 Unnamed: 4  \\\n",
       "0      Table      State     Distt.  Area Name     Total/   \n",
       "1       Name       Code       Code        NaN     Rural/   \n",
       "2        NaN        NaN        NaN        NaN     Urban/   \n",
       "3        NaN        NaN        NaN        NaN        NaN   \n",
       "4        NaN        NaN        NaN        NaN        NaN   \n",
       "\n",
       "  C-8  EDUCATIONAL LEVEL BY AGE AND SEX FOR POPULATION AGE 7 AND ABOVE - 2011  \\\n",
       "0                                          Age-group                            \n",
       "1                                                NaN                            \n",
       "2                                                NaN                            \n",
       "3                                                NaN                            \n",
       "4                                                  1                            \n",
       "\n",
       "  Unnamed: 6 Unnamed: 7 Unnamed: 8  Unnamed: 9  ...  \\\n",
       "0      Total        NaN        NaN  Illiterate  ...   \n",
       "1        NaN        NaN        NaN         NaN  ...   \n",
       "2        NaN        NaN        NaN         NaN  ...   \n",
       "3    Persons      Males    Females     Persons  ...   \n",
       "4          2          3          4           5  ...   \n",
       "\n",
       "                        Unnamed: 36 Unnamed: 37 Unnamed: 38       Unnamed: 39  \\\n",
       "0                               NaN         NaN         NaN               NaN   \n",
       "1  Technical diploma or certificate         NaN         NaN  Graduate & above   \n",
       "2              not equal to degree          NaN         NaN               NaN   \n",
       "3                           Persons       Males     Females           Persons   \n",
       "4                                32          33          34                35   \n",
       "\n",
       "  Unnamed: 40 Unnamed: 41   Unnamed: 42 Unnamed: 43 Unnamed: 44 Unnamed: 45  \n",
       "0         NaN         NaN           NaN         NaN         NaN         NaN  \n",
       "1         NaN         NaN  Unclassified         NaN         NaN         NaN  \n",
       "2         NaN         NaN           NaN         NaN         NaN         NaN  \n",
       "3       Males     Females       Persons       Males     Females         NaN  \n",
       "4          36          37            38          39          40         NaN  \n",
       "\n",
       "[5 rows x 46 columns]"
      ]
     },
     "execution_count": 4,
     "metadata": {},
     "output_type": "execute_result"
    }
   ],
   "source": [
    "census_df.head()"
   ]
  },
  {
   "cell_type": "code",
   "execution_count": 25,
   "id": "823b716f",
   "metadata": {},
   "outputs": [
    {
     "data": {
      "text/plain": [
       "594"
      ]
     },
     "execution_count": 25,
     "metadata": {},
     "output_type": "execute_result"
    }
   ],
   "source": [
    "import pandas as pd\n",
    "marks = pd.read_csv('https://media-doselect.s3.amazonaws.com/generic/GZVBQG5pzJeNaL1ve50Rv9YNV/class-grades.csv')\n",
    "marks.size"
   ]
  },
  {
   "cell_type": "code",
   "execution_count": 28,
   "id": "53566762",
   "metadata": {},
   "outputs": [],
   "source": [
    "df2 = marks[marks.isna().sum(axis=1) != 5]"
   ]
  },
  {
   "cell_type": "code",
   "execution_count": 29,
   "id": "742f572f",
   "metadata": {},
   "outputs": [
    {
     "data": {
      "text/plain": [
       "582"
      ]
     },
     "execution_count": 29,
     "metadata": {},
     "output_type": "execute_result"
    }
   ],
   "source": [
    "df2.size"
   ]
  },
  {
   "cell_type": "code",
   "execution_count": 30,
   "id": "c7f4ad89",
   "metadata": {},
   "outputs": [],
   "source": [
    "import pandas as pd\n",
    "customer = pd.read_csv('https://media-doselect.s3.amazonaws.com/generic/9B2ZPE1apMvqrLWx7p8ge9dqX/cust_dimen.csv')"
   ]
  },
  {
   "cell_type": "code",
   "execution_count": 31,
   "id": "0b24d856",
   "metadata": {},
   "outputs": [
    {
     "data": {
      "text/html": [
       "<div>\n",
       "<style scoped>\n",
       "    .dataframe tbody tr th:only-of-type {\n",
       "        vertical-align: middle;\n",
       "    }\n",
       "\n",
       "    .dataframe tbody tr th {\n",
       "        vertical-align: top;\n",
       "    }\n",
       "\n",
       "    .dataframe thead th {\n",
       "        text-align: right;\n",
       "    }\n",
       "</style>\n",
       "<table border=\"1\" class=\"dataframe\">\n",
       "  <thead>\n",
       "    <tr style=\"text-align: right;\">\n",
       "      <th></th>\n",
       "      <th>Customer_Name</th>\n",
       "      <th>Province</th>\n",
       "      <th>Region</th>\n",
       "      <th>Customer_Segment</th>\n",
       "      <th>Cust_id</th>\n",
       "    </tr>\n",
       "  </thead>\n",
       "  <tbody>\n",
       "    <tr>\n",
       "      <th>0</th>\n",
       "      <td>MUHAMMED MACINTYRE</td>\n",
       "      <td>NUNAVUT</td>\n",
       "      <td>NUNAVUT</td>\n",
       "      <td>SMALL BUSINESS</td>\n",
       "      <td>Cust_1</td>\n",
       "    </tr>\n",
       "    <tr>\n",
       "      <th>1</th>\n",
       "      <td>BARRY FRENCH</td>\n",
       "      <td>NUNAVUT</td>\n",
       "      <td>NUNAVUT</td>\n",
       "      <td>CONSUMER</td>\n",
       "      <td>Cust_2</td>\n",
       "    </tr>\n",
       "    <tr>\n",
       "      <th>2</th>\n",
       "      <td>CLAY ROZENDAL</td>\n",
       "      <td>NUNAVUT</td>\n",
       "      <td>NUNAVUT</td>\n",
       "      <td>CORPORATE</td>\n",
       "      <td>Cust_3</td>\n",
       "    </tr>\n",
       "    <tr>\n",
       "      <th>3</th>\n",
       "      <td>CARLOS SOLTERO</td>\n",
       "      <td>NUNAVUT</td>\n",
       "      <td>NUNAVUT</td>\n",
       "      <td>CONSUMER</td>\n",
       "      <td>Cust_4</td>\n",
       "    </tr>\n",
       "    <tr>\n",
       "      <th>4</th>\n",
       "      <td>CARL JACKSON</td>\n",
       "      <td>NUNAVUT</td>\n",
       "      <td>NUNAVUT</td>\n",
       "      <td>CORPORATE</td>\n",
       "      <td>Cust_5</td>\n",
       "    </tr>\n",
       "  </tbody>\n",
       "</table>\n",
       "</div>"
      ],
      "text/plain": [
       "        Customer_Name Province   Region Customer_Segment Cust_id\n",
       "0  MUHAMMED MACINTYRE  NUNAVUT  NUNAVUT   SMALL BUSINESS  Cust_1\n",
       "1        BARRY FRENCH  NUNAVUT  NUNAVUT         CONSUMER  Cust_2\n",
       "2       CLAY ROZENDAL  NUNAVUT  NUNAVUT        CORPORATE  Cust_3\n",
       "3      CARLOS SOLTERO  NUNAVUT  NUNAVUT         CONSUMER  Cust_4\n",
       "4        CARL JACKSON  NUNAVUT  NUNAVUT        CORPORATE  Cust_5"
      ]
     },
     "execution_count": 31,
     "metadata": {},
     "output_type": "execute_result"
    }
   ],
   "source": [
    "customer.head(5)"
   ]
  },
  {
   "cell_type": "code",
   "execution_count": 37,
   "id": "a78b2b9f",
   "metadata": {},
   "outputs": [
    {
     "data": {
      "text/plain": [
       "(1254, 5)"
      ]
     },
     "execution_count": 37,
     "metadata": {},
     "output_type": "execute_result"
    }
   ],
   "source": [
    "import pandas as pd\n",
    "rating = pd.read_csv('https://media-doselect.s3.amazonaws.com/generic/JPAqXRWexo7nybkQ7BjPLWVN/rating_final.csv')\n",
    "rating.shape"
   ]
  },
  {
   "cell_type": "code",
   "execution_count": 38,
   "id": "4a06638a",
   "metadata": {},
   "outputs": [
    {
     "data": {
      "text/plain": [
       "(1149, 5)"
      ]
     },
     "execution_count": 38,
     "metadata": {},
     "output_type": "execute_result"
    }
   ],
   "source": [
    "rating.drop_duplicates().shape"
   ]
  },
  {
   "cell_type": "code",
   "execution_count": 40,
   "id": "24574c16",
   "metadata": {},
   "outputs": [],
   "source": [
    "tkar_df = pd.read_csv('tendulkar_ODI.csv')"
   ]
  },
  {
   "cell_type": "code",
   "execution_count": 56,
   "id": "e457c88f",
   "metadata": {},
   "outputs": [
    {
     "data": {
      "text/plain": [
       "(295, 13)"
      ]
     },
     "execution_count": 56,
     "metadata": {},
     "output_type": "execute_result"
    }
   ],
   "source": [
    "tkar_df.shape"
   ]
  },
  {
   "cell_type": "code",
   "execution_count": 58,
   "id": "cacaba2e",
   "metadata": {},
   "outputs": [],
   "source": [
    "tkar_df_jr = tkar_df[~tkar_df.Runs.isin(['DNB','TDNB'])]"
   ]
  },
  {
   "cell_type": "code",
   "execution_count": 86,
   "id": "320c49db",
   "metadata": {},
   "outputs": [
    {
     "data": {
      "text/html": [
       "<div>\n",
       "<style scoped>\n",
       "    .dataframe tbody tr th:only-of-type {\n",
       "        vertical-align: middle;\n",
       "    }\n",
       "\n",
       "    .dataframe tbody tr th {\n",
       "        vertical-align: top;\n",
       "    }\n",
       "\n",
       "    .dataframe thead th {\n",
       "        text-align: right;\n",
       "    }\n",
       "</style>\n",
       "<table border=\"1\" class=\"dataframe\">\n",
       "  <thead>\n",
       "    <tr style=\"text-align: right;\">\n",
       "      <th></th>\n",
       "      <th>index</th>\n",
       "      <th>Unnamed: 0</th>\n",
       "      <th>Runs</th>\n",
       "      <th>Mins</th>\n",
       "      <th>BF</th>\n",
       "      <th>4s</th>\n",
       "      <th>6s</th>\n",
       "      <th>SR</th>\n",
       "      <th>Pos</th>\n",
       "      <th>Dismissal</th>\n",
       "      <th>Inns</th>\n",
       "      <th>Opposition</th>\n",
       "      <th>Ground</th>\n",
       "      <th>Start Date</th>\n",
       "    </tr>\n",
       "  </thead>\n",
       "  <tbody>\n",
       "    <tr>\n",
       "      <th>0</th>\n",
       "      <td>0</td>\n",
       "      <td>1</td>\n",
       "      <td>0</td>\n",
       "      <td>-</td>\n",
       "      <td>2</td>\n",
       "      <td>0</td>\n",
       "      <td>0</td>\n",
       "      <td>0</td>\n",
       "      <td>5</td>\n",
       "      <td>caught</td>\n",
       "      <td>2</td>\n",
       "      <td>v Pakistan</td>\n",
       "      <td>Gujranwala</td>\n",
       "      <td>18-Dec-89</td>\n",
       "    </tr>\n",
       "    <tr>\n",
       "      <th>1</th>\n",
       "      <td>1</td>\n",
       "      <td>2</td>\n",
       "      <td>0</td>\n",
       "      <td>2</td>\n",
       "      <td>2</td>\n",
       "      <td>0</td>\n",
       "      <td>0</td>\n",
       "      <td>0</td>\n",
       "      <td>5</td>\n",
       "      <td>caught</td>\n",
       "      <td>2</td>\n",
       "      <td>v New Zealand</td>\n",
       "      <td>Dunedin</td>\n",
       "      <td>1-Mar-90</td>\n",
       "    </tr>\n",
       "    <tr>\n",
       "      <th>2</th>\n",
       "      <td>2</td>\n",
       "      <td>3</td>\n",
       "      <td>36</td>\n",
       "      <td>51</td>\n",
       "      <td>39</td>\n",
       "      <td>5</td>\n",
       "      <td>0</td>\n",
       "      <td>92.3</td>\n",
       "      <td>6</td>\n",
       "      <td>caught</td>\n",
       "      <td>1</td>\n",
       "      <td>v New Zealand</td>\n",
       "      <td>Wellington</td>\n",
       "      <td>6-Mar-90</td>\n",
       "    </tr>\n",
       "    <tr>\n",
       "      <th>3</th>\n",
       "      <td>3</td>\n",
       "      <td>4</td>\n",
       "      <td>19</td>\n",
       "      <td>38</td>\n",
       "      <td>35</td>\n",
       "      <td>1</td>\n",
       "      <td>1</td>\n",
       "      <td>54.28</td>\n",
       "      <td>4</td>\n",
       "      <td>bowled</td>\n",
       "      <td>2</td>\n",
       "      <td>v England</td>\n",
       "      <td>Leeds</td>\n",
       "      <td>18-Jul-90</td>\n",
       "    </tr>\n",
       "    <tr>\n",
       "      <th>4</th>\n",
       "      <td>4</td>\n",
       "      <td>5</td>\n",
       "      <td>31</td>\n",
       "      <td>31</td>\n",
       "      <td>26</td>\n",
       "      <td>3</td>\n",
       "      <td>0</td>\n",
       "      <td>119.23</td>\n",
       "      <td>6</td>\n",
       "      <td>bowled</td>\n",
       "      <td>2</td>\n",
       "      <td>v England</td>\n",
       "      <td>Nottingham</td>\n",
       "      <td>20-Jul-90</td>\n",
       "    </tr>\n",
       "  </tbody>\n",
       "</table>\n",
       "</div>"
      ],
      "text/plain": [
       "   index  Unnamed: 0  Runs Mins  BF 4s 6s      SR Pos Dismissal Inns  \\\n",
       "0      0           1     0    -   2  0  0       0   5    caught    2   \n",
       "1      1           2     0    2   2  0  0       0   5    caught    2   \n",
       "2      2           3    36   51  39  5  0    92.3   6    caught    1   \n",
       "3      3           4    19   38  35  1  1   54.28   4    bowled    2   \n",
       "4      4           5    31   31  26  3  0  119.23   6    bowled    2   \n",
       "\n",
       "      Opposition      Ground Start Date  \n",
       "0     v Pakistan  Gujranwala  18-Dec-89  \n",
       "1  v New Zealand     Dunedin   1-Mar-90  \n",
       "2  v New Zealand  Wellington   6-Mar-90  \n",
       "3      v England       Leeds  18-Jul-90  \n",
       "4      v England  Nottingham  20-Jul-90  "
      ]
     },
     "execution_count": 86,
     "metadata": {},
     "output_type": "execute_result"
    }
   ],
   "source": [
    "tkar_df_jr.head()"
   ]
  },
  {
   "cell_type": "code",
   "execution_count": 74,
   "id": "8260dacb",
   "metadata": {},
   "outputs": [],
   "source": [
    "from matplotlib import pyplot as plt"
   ]
  },
  {
   "cell_type": "code",
   "execution_count": 84,
   "id": "13d44d5a",
   "metadata": {},
   "outputs": [
    {
     "data": {
      "image/png": "[encoded data removed]",
      "text/plain": [
       "<Figure size 1440x864 with 1 Axes>"
      ]
     },
     "metadata": {
      "needs_background": "light"
     },
     "output_type": "display_data"
    }
   ],
   "source": [
    "import seaborn as sns\n",
    "import matplotlib.pyplot as plt\n",
    "plt.figure(figsize=[20,12])\n",
    "sns.barplot(x = 'Runs', y = tkar_df_jr['Runs'].value_counts(),data = tkar_df_jr)\n",
    "plt.show()"
   ]
  },
  {
   "cell_type": "code",
   "execution_count": 89,
   "id": "5013dbac",
   "metadata": {},
   "outputs": [
    {
     "data": {
      "text/plain": [
       "<AxesSubplot:xlabel='4s', ylabel='Count'>"
      ]
     },
     "execution_count": 89,
     "metadata": {},
     "output_type": "execute_result"
    },
    {
     "data": {
      "image/png": "[encoded data removed]",
      "text/plain": [
       "<Figure size 432x288 with 1 Axes>"
      ]
     },
     "metadata": {
      "needs_background": "light"
     },
     "output_type": "display_data"
    }
   ],
   "source": [
    "sns.histplot(tkar_df_jr['4s'])"
   ]
  },
  {
   "cell_type": "code",
   "execution_count": 90,
   "id": "c6a3d3d4",
   "metadata": {},
   "outputs": [
    {
     "data": {
      "text/plain": [
       "array([  0,  36,  19,  31,  53,  30,   4,  62,   1,  57,  21,  69,  11,\n",
       "        84,  39,  15,  10,  22,  32,  23,  82,   3,  24,   5,  34,   8,\n",
       "        25,  26,   2,  28,  52,  63,  40,   6, 115,  66,  54,  88, 105,\n",
       "        13,   7,  65, 127,  70,  90, 137, 110,  64,  67, 114,  14,  45,\n",
       "        44,   9, 117,  27, 100,  33,  18,  17, 128,  29,  37, 120, 186,\n",
       "        12, 122,  93, 146,  35, 139, 101,  38,  68,  87,  81,  89, 102,\n",
       "        86, 141,  74,  16,  47, 123,  42,  95,  55,  60,  99,  71,  94,\n",
       "        43,  79,  72,  97,  91,  50,  20, 163, 138, 175,  96, 200, 111,\n",
       "        85], dtype=int64)"
      ]
     },
     "execution_count": 90,
     "metadata": {},
     "output_type": "execute_result"
    }
   ],
   "source": [
    "tkar_df_jr.Runs.unique()"
   ]
  },
  {
   "cell_type": "code",
   "execution_count": 91,
   "id": "1181cf2b",
   "metadata": {},
   "outputs": [],
   "source": [
    "import numpy as np"
   ]
  },
  {
   "cell_type": "code",
   "execution_count": 95,
   "id": "40514d6b",
   "metadata": {},
   "outputs": [
    {
     "data": {
      "text/plain": [
       "32.0"
      ]
     },
     "execution_count": 95,
     "metadata": {},
     "output_type": "execute_result"
    }
   ],
   "source": [
    "np.median(np.array([36, 42, 32, 22, 25]))"
   ]
  },
  {
   "cell_type": "code",
   "execution_count": 112,
   "id": "7d38d987",
   "metadata": {},
   "outputs": [],
   "source": [
    "news = pd.read_csv('popularity.csv')"
   ]
  },
  {
   "cell_type": "code",
   "execution_count": 113,
   "id": "35df9c37",
   "metadata": {},
   "outputs": [
    {
     "data": {
      "text/plain": [
       "Index(['url', ' timedelta', ' n_tokens_title', ' n_tokens_content',\n",
       "       ' n_unique_tokens', ' n_non_stop_words', ' n_non_stop_unique_tokens',\n",
       "       ' num_hrefs', ' num_self_hrefs', ' num_imgs', ' num_videos',\n",
       "       ' average_token_length', ' num_keywords', ' data_channel_is_lifestyle',\n",
       "       ' data_channel_is_entertainment', ' data_channel_is_bus',\n",
       "       ' data_channel_is_socmed', ' data_channel_is_tech',\n",
       "       ' data_channel_is_world', ' kw_min_min', ' kw_max_min', ' kw_avg_min',\n",
       "       ' kw_min_max', ' kw_max_max', ' kw_avg_max', ' kw_min_avg',\n",
       "       ' kw_max_avg', ' kw_avg_avg', ' self_reference_min_shares',\n",
       "       ' self_reference_max_shares', ' self_reference_avg_sharess',\n",
       "       ' weekday_is_monday', ' weekday_is_tuesday', ' weekday_is_wednesday',\n",
       "       ' weekday_is_thursday', ' weekday_is_friday', ' weekday_is_saturday',\n",
       "       ' weekday_is_sunday', ' is_weekend', ' LDA_00', ' LDA_01', ' LDA_02',\n",
       "       ' LDA_03', ' LDA_04', ' global_subjectivity',\n",
       "       ' global_sentiment_polarity', ' global_rate_positive_words',\n",
       "       ' global_rate_negative_words', ' rate_positive_words',\n",
       "       ' rate_negative_words', ' avg_positive_polarity',\n",
       "       ' min_positive_polarity', ' max_positive_polarity',\n",
       "       ' avg_negative_polarity', ' min_negative_polarity',\n",
       "       ' max_negative_polarity', ' title_subjectivity',\n",
       "       ' title_sentiment_polarity', ' abs_title_subjectivity',\n",
       "       ' abs_title_sentiment_polarity', ' shares'],\n",
       "      dtype='object')"
      ]
     },
     "execution_count": 113,
     "metadata": {},
     "output_type": "execute_result"
    }
   ],
   "source": [
    "news.columns"
   ]
  },
  {
   "cell_type": "code",
   "execution_count": 116,
   "id": "1c02ab0c",
   "metadata": {},
   "outputs": [
    {
     "data": {
      "text/plain": [
       "count    61.0\n",
       "mean      0.0\n",
       "std       0.0\n",
       "min       0.0\n",
       "25%       0.0\n",
       "50%       0.0\n",
       "75%       0.0\n",
       "max       0.0\n",
       "dtype: float64"
      ]
     },
     "execution_count": 116,
     "metadata": {},
     "output_type": "execute_result"
    }
   ],
   "source": [
    "news.isna().sum().describe()"
   ]
  },
  {
   "cell_type": "code",
   "execution_count": 122,
   "id": "0502520d",
   "metadata": {},
   "outputs": [
    {
     "data": {
      "text/plain": [
       "count     39644.000000\n",
       "mean       3395.380184\n",
       "std       11626.950749\n",
       "min           1.000000\n",
       "25%         946.000000\n",
       "50%        1400.000000\n",
       "75%        2800.000000\n",
       "max      843300.000000\n",
       "Name:  shares, dtype: float64"
      ]
     },
     "execution_count": 122,
     "metadata": {},
     "output_type": "execute_result"
    }
   ],
   "source": [
    "news[' shares'].describe()"
   ]
  },
  {
   "cell_type": "code",
   "execution_count": 128,
   "id": "4042efe9",
   "metadata": {},
   "outputs": [
    {
     "data": {
      "text/plain": [
       "(37663,)"
      ]
     },
     "execution_count": 128,
     "metadata": {},
     "output_type": "execute_result"
    }
   ],
   "source": [
    "news[' shares'][news[' shares'] <= news[' shares'].quantile(.95)].shape"
   ]
  },
  {
   "cell_type": "code",
   "execution_count": 129,
   "id": "4f567111",
   "metadata": {},
   "outputs": [
    {
     "data": {
      "text/plain": [
       "(39644,)"
      ]
     },
     "execution_count": 129,
     "metadata": {},
     "output_type": "execute_result"
    }
   ],
   "source": [
    "news[' shares'].shape"
   ]
  },
  {
   "cell_type": "code",
   "execution_count": 130,
   "id": "c75545c6",
   "metadata": {},
   "outputs": [],
   "source": [
    "nas = pd.read_csv('EDA_nas.csv')"
   ]
  },
  {
   "cell_type": "code",
   "execution_count": 155,
   "id": "bcef6273",
   "metadata": {},
   "outputs": [
    {
     "data": {
      "text/plain": [
       "Index(['STUID', 'State', 'District', 'Gender', 'Age', 'Category',\n",
       "       'Same.language', 'Siblings', 'Handicap', 'Father.edu', 'Mother.edu',\n",
       "       'Father.occupation', 'Mother.occupation', 'Below.poverty',\n",
       "       'Use.calculator', 'Use.computer', 'Use.Internet', 'Use.dictionary',\n",
       "       'Read.other.books', 'X..Books', 'Distance', 'Computer.use',\n",
       "       'Library.use', 'Like.school', 'Subjects', 'Give.Lang.HW',\n",
       "       'Give.Math.HW', 'Give.Scie.HW', 'Give.SoSc.HW', 'Correct.Lang.HW',\n",
       "       'Correct.Math.HW', 'Correct.Scie.HW', 'Correct.SocS.HW',\n",
       "       'Help.in.Study', 'Private.tuition', 'English.is.difficult',\n",
       "       'Read.English', 'Dictionary.to.learn', 'Answer.English.WB',\n",
       "       'Answer.English.aloud', 'Maths.is.difficult', 'Solve.Maths',\n",
       "       'Solve.Maths.in.groups', 'Draw.geometry', 'Explain.answers',\n",
       "       'SocSci.is.difficult', 'Historical.excursions', 'Participate.in.SocSci',\n",
       "       'Small.groups.in.SocSci', 'Express.SocSci.views',\n",
       "       'Science.is.difficult', 'Observe.experiments', 'Conduct.experiments',\n",
       "       'Solve.science.problems', 'Express.science.views', 'Watch.TV',\n",
       "       'Read.magazine', 'Read.a.book', 'Play.games', 'Help.in.household',\n",
       "       'Maths..', 'Reading..', 'Science..', 'Social..'],\n",
       "      dtype='object')"
      ]
     },
     "execution_count": 155,
     "metadata": {},
     "output_type": "execute_result"
    }
   ],
   "source": [
    "nas.columns"
   ]
  },
  {
   "cell_type": "code",
   "execution_count": 162,
   "id": "bc69d72c",
   "metadata": {},
   "outputs": [],
   "source": [
    "nas_read = nas[['Mother.edu', 'Reading..']]"
   ]
  },
  {
   "cell_type": "code",
   "execution_count": 164,
   "id": "1f7d5322",
   "metadata": {},
   "outputs": [
    {
     "data": {
      "image/png": "[encoded data removed]",
      "text/plain": [
       "<Figure size 720x432 with 1 Axes>"
      ]
     },
     "metadata": {
      "needs_background": "light"
     },
     "output_type": "display_data"
    }
   ],
   "source": [
    "plt.figure(figsize=[10,6])\n",
    "sns.boxplot(data=nas_read, x='Mother.edu', y='Reading..')\n",
    "plt.show()"
   ]
  },
  {
   "cell_type": "code",
   "execution_count": 170,
   "id": "91fe9390",
   "metadata": {},
   "outputs": [],
   "source": [
    "census = pd.read_excel('EDA_census.xlsx')"
   ]
  },
  {
   "cell_type": "code",
   "execution_count": 171,
   "id": "5d94a074",
   "metadata": {},
   "outputs": [
    {
     "name": "stdout",
     "output_type": "stream",
     "text": [
      "<class 'pandas.core.frame.DataFrame'>\n",
      "RangeIndex: 3132 entries, 0 to 3131\n",
      "Data columns (total 16 columns):\n",
      " #   Column              Non-Null Count  Dtype  \n",
      "---  ------              --------------  -----  \n",
      " 0   Name                3132 non-null   object \n",
      " 1   State Code          3132 non-null   int64  \n",
      " 2   District Code       3132 non-null   int64  \n",
      " 3   Area Name           3132 non-null   object \n",
      " 4   TRU                 3132 non-null   object \n",
      " 5   age_group           3132 non-null   object \n",
      " 6   persons             3132 non-null   int64  \n",
      " 7   males               3132 non-null   int64  \n",
      " 8   frmales             3132 non-null   int64  \n",
      " 9   Illiterate persons  3132 non-null   int64  \n",
      " 10  illiterate males    3132 non-null   int64  \n",
      " 11  illiterate females  3132 non-null   int64  \n",
      " 12  literate persons    3132 non-null   int64  \n",
      " 13  literate males      3132 non-null   int64  \n",
      " 14  literate females    3132 non-null   int64  \n",
      " 15  Unnamed: 15         0 non-null      float64\n",
      "dtypes: float64(1), int64(11), object(4)\n",
      "memory usage: 391.6+ KB\n"
     ]
    }
   ],
   "source": [
    "census.info()"
   ]
  },
  {
   "cell_type": "code",
   "execution_count": 172,
   "id": "1e0b79ae",
   "metadata": {},
   "outputs": [
    {
     "data": {
      "text/plain": [
       "Index(['Name', 'State Code', 'District Code', 'Area Name', 'TRU', 'age_group',\n",
       "       'persons', 'males', 'frmales', 'Illiterate persons', 'illiterate males',\n",
       "       'illiterate females', 'literate persons', 'literate males',\n",
       "       'literate females', 'Unnamed: 15'],\n",
       "      dtype='object')"
      ]
     },
     "execution_count": 172,
     "metadata": {},
     "output_type": "execute_result"
    }
   ],
   "source": [
    "census.columns"
   ]
  },
  {
   "cell_type": "code",
   "execution_count": 174,
   "id": "ce926c7e",
   "metadata": {},
   "outputs": [],
   "source": [
    "census.drop(columns=['Unnamed: 15'],inplace=True)"
   ]
  },
  {
   "cell_type": "code",
   "execution_count": 182,
   "id": "bbbe5a5b",
   "metadata": {},
   "outputs": [],
   "source": [
    "census_group = census.groupby(['age_group'])"
   ]
  },
  {
   "cell_type": "code",
   "execution_count": 207,
   "id": "df0fa636",
   "metadata": {},
   "outputs": [
    {
     "data": {
      "text/plain": [
       "87.63764743693491"
      ]
     },
     "execution_count": 207,
     "metadata": {},
     "output_type": "execute_result"
    }
   ],
   "source": [
    "(18280414/20859088)*100"
   ]
  },
  {
   "cell_type": "code",
   "execution_count": 206,
   "id": "84407614",
   "metadata": {},
   "outputs": [
    {
     "data": {
      "text/html": [
       "<div>\n",
       "<style scoped>\n",
       "    .dataframe tbody tr th:only-of-type {\n",
       "        vertical-align: middle;\n",
       "    }\n",
       "\n",
       "    .dataframe tbody tr th {\n",
       "        vertical-align: top;\n",
       "    }\n",
       "\n",
       "    .dataframe thead th {\n",
       "        text-align: right;\n",
       "    }\n",
       "</style>\n",
       "<table border=\"1\" class=\"dataframe\">\n",
       "  <thead>\n",
       "    <tr style=\"text-align: right;\">\n",
       "      <th></th>\n",
       "      <th>Name</th>\n",
       "      <th>State Code</th>\n",
       "      <th>District Code</th>\n",
       "      <th>Area Name</th>\n",
       "      <th>TRU</th>\n",
       "      <th>age_group</th>\n",
       "      <th>persons</th>\n",
       "      <th>males</th>\n",
       "      <th>frmales</th>\n",
       "      <th>Illiterate persons</th>\n",
       "      <th>illiterate males</th>\n",
       "      <th>illiterate females</th>\n",
       "      <th>literate persons</th>\n",
       "      <th>literate males</th>\n",
       "      <th>literate females</th>\n",
       "    </tr>\n",
       "  </thead>\n",
       "  <tbody>\n",
       "    <tr>\n",
       "      <th>14</th>\n",
       "      <td>C2308</td>\n",
       "      <td>0</td>\n",
       "      <td>0</td>\n",
       "      <td>INDIA</td>\n",
       "      <td>Total</td>\n",
       "      <td>19</td>\n",
       "      <td>20859088</td>\n",
       "      <td>10844415</td>\n",
       "      <td>10014673</td>\n",
       "      <td>2578674</td>\n",
       "      <td>935454</td>\n",
       "      <td>1643220</td>\n",
       "      <td>18280414</td>\n",
       "      <td>9908961</td>\n",
       "      <td>8371453</td>\n",
       "    </tr>\n",
       "    <tr>\n",
       "      <th>43</th>\n",
       "      <td>C2308</td>\n",
       "      <td>0</td>\n",
       "      <td>0</td>\n",
       "      <td>INDIA</td>\n",
       "      <td>Rural</td>\n",
       "      <td>19</td>\n",
       "      <td>13866640</td>\n",
       "      <td>7170204</td>\n",
       "      <td>6696436</td>\n",
       "      <td>2041132</td>\n",
       "      <td>691050</td>\n",
       "      <td>1350082</td>\n",
       "      <td>11825508</td>\n",
       "      <td>6479154</td>\n",
       "      <td>5346354</td>\n",
       "    </tr>\n",
       "    <tr>\n",
       "      <th>72</th>\n",
       "      <td>C2308</td>\n",
       "      <td>0</td>\n",
       "      <td>0</td>\n",
       "      <td>INDIA</td>\n",
       "      <td>Urban</td>\n",
       "      <td>19</td>\n",
       "      <td>6992448</td>\n",
       "      <td>3674211</td>\n",
       "      <td>3318237</td>\n",
       "      <td>537542</td>\n",
       "      <td>244404</td>\n",
       "      <td>293138</td>\n",
       "      <td>6454906</td>\n",
       "      <td>3429807</td>\n",
       "      <td>3025099</td>\n",
       "    </tr>\n",
       "    <tr>\n",
       "      <th>101</th>\n",
       "      <td>C2308</td>\n",
       "      <td>1</td>\n",
       "      <td>0</td>\n",
       "      <td>State - JAMMU &amp; KASHMIR</td>\n",
       "      <td>Total</td>\n",
       "      <td>19</td>\n",
       "      <td>205594</td>\n",
       "      <td>106532</td>\n",
       "      <td>99062</td>\n",
       "      <td>30530</td>\n",
       "      <td>9453</td>\n",
       "      <td>21077</td>\n",
       "      <td>175064</td>\n",
       "      <td>97079</td>\n",
       "      <td>77985</td>\n",
       "    </tr>\n",
       "    <tr>\n",
       "      <th>130</th>\n",
       "      <td>C2308</td>\n",
       "      <td>1</td>\n",
       "      <td>0</td>\n",
       "      <td>State - JAMMU &amp; KASHMIR</td>\n",
       "      <td>Rural</td>\n",
       "      <td>19</td>\n",
       "      <td>149318</td>\n",
       "      <td>77015</td>\n",
       "      <td>72303</td>\n",
       "      <td>25462</td>\n",
       "      <td>7386</td>\n",
       "      <td>18076</td>\n",
       "      <td>123856</td>\n",
       "      <td>69629</td>\n",
       "      <td>54227</td>\n",
       "    </tr>\n",
       "    <tr>\n",
       "      <th>...</th>\n",
       "      <td>...</td>\n",
       "      <td>...</td>\n",
       "      <td>...</td>\n",
       "      <td>...</td>\n",
       "      <td>...</td>\n",
       "      <td>...</td>\n",
       "      <td>...</td>\n",
       "      <td>...</td>\n",
       "      <td>...</td>\n",
       "      <td>...</td>\n",
       "      <td>...</td>\n",
       "      <td>...</td>\n",
       "      <td>...</td>\n",
       "      <td>...</td>\n",
       "      <td>...</td>\n",
       "    </tr>\n",
       "    <tr>\n",
       "      <th>3001</th>\n",
       "      <td>C2308</td>\n",
       "      <td>34</td>\n",
       "      <td>0</td>\n",
       "      <td>State - PUDUCHERRY</td>\n",
       "      <td>Rural</td>\n",
       "      <td>19</td>\n",
       "      <td>7140</td>\n",
       "      <td>3631</td>\n",
       "      <td>3509</td>\n",
       "      <td>136</td>\n",
       "      <td>56</td>\n",
       "      <td>80</td>\n",
       "      <td>7004</td>\n",
       "      <td>3575</td>\n",
       "      <td>3429</td>\n",
       "    </tr>\n",
       "    <tr>\n",
       "      <th>3030</th>\n",
       "      <td>C2308</td>\n",
       "      <td>34</td>\n",
       "      <td>0</td>\n",
       "      <td>State - PUDUCHERRY</td>\n",
       "      <td>Urban</td>\n",
       "      <td>19</td>\n",
       "      <td>14000</td>\n",
       "      <td>6959</td>\n",
       "      <td>7041</td>\n",
       "      <td>297</td>\n",
       "      <td>117</td>\n",
       "      <td>180</td>\n",
       "      <td>13703</td>\n",
       "      <td>6842</td>\n",
       "      <td>6861</td>\n",
       "    </tr>\n",
       "    <tr>\n",
       "      <th>3059</th>\n",
       "      <td>C2308</td>\n",
       "      <td>35</td>\n",
       "      <td>0</td>\n",
       "      <td>State - ANDAMAN &amp; NICOBAR ISLANDS</td>\n",
       "      <td>Total</td>\n",
       "      <td>19</td>\n",
       "      <td>6522</td>\n",
       "      <td>3402</td>\n",
       "      <td>3120</td>\n",
       "      <td>190</td>\n",
       "      <td>108</td>\n",
       "      <td>82</td>\n",
       "      <td>6332</td>\n",
       "      <td>3294</td>\n",
       "      <td>3038</td>\n",
       "    </tr>\n",
       "    <tr>\n",
       "      <th>3088</th>\n",
       "      <td>C2308</td>\n",
       "      <td>35</td>\n",
       "      <td>0</td>\n",
       "      <td>State - ANDAMAN &amp; NICOBAR ISLANDS</td>\n",
       "      <td>Rural</td>\n",
       "      <td>19</td>\n",
       "      <td>3979</td>\n",
       "      <td>2061</td>\n",
       "      <td>1918</td>\n",
       "      <td>115</td>\n",
       "      <td>64</td>\n",
       "      <td>51</td>\n",
       "      <td>3864</td>\n",
       "      <td>1997</td>\n",
       "      <td>1867</td>\n",
       "    </tr>\n",
       "    <tr>\n",
       "      <th>3117</th>\n",
       "      <td>C2308</td>\n",
       "      <td>35</td>\n",
       "      <td>0</td>\n",
       "      <td>State - ANDAMAN &amp; NICOBAR ISLANDS</td>\n",
       "      <td>Urban</td>\n",
       "      <td>19</td>\n",
       "      <td>2543</td>\n",
       "      <td>1341</td>\n",
       "      <td>1202</td>\n",
       "      <td>75</td>\n",
       "      <td>44</td>\n",
       "      <td>31</td>\n",
       "      <td>2468</td>\n",
       "      <td>1297</td>\n",
       "      <td>1171</td>\n",
       "    </tr>\n",
       "  </tbody>\n",
       "</table>\n",
       "<p>108 rows × 15 columns</p>\n",
       "</div>"
      ],
      "text/plain": [
       "       Name  State Code  District Code                          Area Name  \\\n",
       "14    C2308           0              0                              INDIA   \n",
       "43    C2308           0              0                              INDIA   \n",
       "72    C2308           0              0                              INDIA   \n",
       "101   C2308           1              0            State - JAMMU & KASHMIR   \n",
       "130   C2308           1              0            State - JAMMU & KASHMIR   \n",
       "...     ...         ...            ...                                ...   \n",
       "3001  C2308          34              0                 State - PUDUCHERRY   \n",
       "3030  C2308          34              0                 State - PUDUCHERRY   \n",
       "3059  C2308          35              0  State - ANDAMAN & NICOBAR ISLANDS   \n",
       "3088  C2308          35              0  State - ANDAMAN & NICOBAR ISLANDS   \n",
       "3117  C2308          35              0  State - ANDAMAN & NICOBAR ISLANDS   \n",
       "\n",
       "        TRU age_group   persons     males   frmales  Illiterate persons  \\\n",
       "14    Total        19  20859088  10844415  10014673             2578674   \n",
       "43    Rural        19  13866640   7170204   6696436             2041132   \n",
       "72    Urban        19   6992448   3674211   3318237              537542   \n",
       "101   Total        19    205594    106532     99062               30530   \n",
       "130   Rural        19    149318     77015     72303               25462   \n",
       "...     ...       ...       ...       ...       ...                 ...   \n",
       "3001  Rural        19      7140      3631      3509                 136   \n",
       "3030  Urban        19     14000      6959      7041                 297   \n",
       "3059  Total        19      6522      3402      3120                 190   \n",
       "3088  Rural        19      3979      2061      1918                 115   \n",
       "3117  Urban        19      2543      1341      1202                  75   \n",
       "\n",
       "      illiterate males  illiterate females  literate persons  literate males  \\\n",
       "14              935454             1643220          18280414         9908961   \n",
       "43              691050             1350082          11825508         6479154   \n",
       "72              244404              293138           6454906         3429807   \n",
       "101               9453               21077            175064           97079   \n",
       "130               7386               18076            123856           69629   \n",
       "...                ...                 ...               ...             ...   \n",
       "3001                56                  80              7004            3575   \n",
       "3030               117                 180             13703            6842   \n",
       "3059               108                  82              6332            3294   \n",
       "3088                64                  51              3864            1997   \n",
       "3117                44                  31              2468            1297   \n",
       "\n",
       "      literate females  \n",
       "14             8371453  \n",
       "43             5346354  \n",
       "72             3025099  \n",
       "101              77985  \n",
       "130              54227  \n",
       "...                ...  \n",
       "3001              3429  \n",
       "3030              6861  \n",
       "3059              3038  \n",
       "3088              1867  \n",
       "3117              1171  \n",
       "\n",
       "[108 rows x 15 columns]"
      ]
     },
     "execution_count": 206,
     "metadata": {},
     "output_type": "execute_result"
    }
   ],
   "source": [
    "census_group.get_group(19)\n",
    "# 55-59 = 54.8\n",
    "# '60-64' = 46.9\n",
    "# '65-69' = 43.9\n",
    "# '70-74' = 39.7\n",
    "# '75-79' = 41.9\n",
    "# '80+' = 38.9\n",
    "# '25-29' = 77.6\n",
    "# 20-24' = 83.2\n",
    "# 19 = 87"
   ]
  },
  {
   "cell_type": "code",
   "execution_count": 188,
   "id": "b9b699e8",
   "metadata": {},
   "outputs": [
    {
     "data": {
      "text/plain": [
       "array(['All ages', '0-6', 7, 8, 9, 10, 11, 12, 13, 14, 15, 16, 17, 18, 19,\n",
       "       '20-24', '25-29', '30-34', '35-39', '40-44', '45-49', '50-54',\n",
       "       '55-59', '60-64', '65-69', '70-74', '75-79', '80+',\n",
       "       'Age not stated'], dtype=object)"
      ]
     },
     "execution_count": 188,
     "metadata": {},
     "output_type": "execute_result"
    }
   ],
   "source": [
    "census['age_group'].unique()"
   ]
  },
  {
   "cell_type": "code",
   "execution_count": 208,
   "id": "2e2d55ca",
   "metadata": {},
   "outputs": [],
   "source": [
    "state_group = census.groupby(['Area Name'])"
   ]
  },
  {
   "cell_type": "code",
   "execution_count": 210,
   "id": "6f11f59d",
   "metadata": {},
   "outputs": [
    {
     "data": {
      "text/plain": [
       "array(['INDIA', 'State - JAMMU & KASHMIR', 'State - HIMACHAL PRADESH',\n",
       "       'State - PUNJAB', 'State - CHANDIGARH', 'State - UTTARAKHAND',\n",
       "       'State - HARYANA', 'State - NCT OF DELHI', 'State - RAJASTHAN',\n",
       "       'State - UTTAR PRADESH', 'State - BIHAR', 'State - SIKKIM',\n",
       "       'State - ARUNACHAL PRADESH', 'State - NAGALAND', 'State - MANIPUR',\n",
       "       'State - MIZORAM', 'State - TRIPURA', 'State - MEGHALAYA',\n",
       "       'State - ASSAM', 'State - WEST BENGAL', 'State - JHARKHAND',\n",
       "       'State - ODISHA', 'State - CHHATTISGARH', 'State - MADHYA PRADESH',\n",
       "       'State - GUJARAT', 'State - DAMAN & DIU',\n",
       "       'State - DADRA & NAGAR HAVELI', 'State - MAHARASHTRA',\n",
       "       'State - ANDHRA PRADESH', 'State - KARNATAKA', 'State - GOA',\n",
       "       'State - LAKSHADWEEP', 'State - KERALA', 'State - TAMIL NADU',\n",
       "       'State - PUDUCHERRY', 'State - ANDAMAN & NICOBAR ISLANDS'],\n",
       "      dtype=object)"
      ]
     },
     "execution_count": 210,
     "metadata": {},
     "output_type": "execute_result"
    }
   ],
   "source": [
    "census['Area Name'].unique()"
   ]
  },
  {
   "cell_type": "code",
   "execution_count": 225,
   "id": "f0444f63",
   "metadata": {},
   "outputs": [
    {
     "data": {
      "text/plain": [
       "59.00186114469107"
      ]
     },
     "execution_count": 225,
     "metadata": {},
     "output_type": "execute_result"
    }
   ],
   "source": [
    "(42851169/72626809)*100"
   ]
  },
  {
   "cell_type": "code",
   "execution_count": 224,
   "id": "d66ffcd3",
   "metadata": {},
   "outputs": [
    {
     "data": {
      "text/html": [
       "<div>\n",
       "<style scoped>\n",
       "    .dataframe tbody tr th:only-of-type {\n",
       "        vertical-align: middle;\n",
       "    }\n",
       "\n",
       "    .dataframe tbody tr th {\n",
       "        vertical-align: top;\n",
       "    }\n",
       "\n",
       "    .dataframe thead th {\n",
       "        text-align: right;\n",
       "    }\n",
       "</style>\n",
       "<table border=\"1\" class=\"dataframe\">\n",
       "  <thead>\n",
       "    <tr style=\"text-align: right;\">\n",
       "      <th></th>\n",
       "      <th>Name</th>\n",
       "      <th>State Code</th>\n",
       "      <th>District Code</th>\n",
       "      <th>Area Name</th>\n",
       "      <th>TRU</th>\n",
       "      <th>age_group</th>\n",
       "      <th>persons</th>\n",
       "      <th>males</th>\n",
       "      <th>frmales</th>\n",
       "      <th>Illiterate persons</th>\n",
       "      <th>illiterate males</th>\n",
       "      <th>illiterate females</th>\n",
       "      <th>literate persons</th>\n",
       "      <th>literate males</th>\n",
       "      <th>literate females</th>\n",
       "    </tr>\n",
       "  </thead>\n",
       "  <tbody>\n",
       "    <tr>\n",
       "      <th>2001</th>\n",
       "      <td>C2308</td>\n",
       "      <td>23</td>\n",
       "      <td>0</td>\n",
       "      <td>State - MADHYA PRADESH</td>\n",
       "      <td>Total</td>\n",
       "      <td>All ages</td>\n",
       "      <td>72626809</td>\n",
       "      <td>37612306</td>\n",
       "      <td>35014503</td>\n",
       "      <td>29775640</td>\n",
       "      <td>12437978</td>\n",
       "      <td>17337662</td>\n",
       "      <td>42851169</td>\n",
       "      <td>25174328</td>\n",
       "      <td>17676841</td>\n",
       "    </tr>\n",
       "    <tr>\n",
       "      <th>2002</th>\n",
       "      <td>C2308</td>\n",
       "      <td>23</td>\n",
       "      <td>0</td>\n",
       "      <td>State - MADHYA PRADESH</td>\n",
       "      <td>Total</td>\n",
       "      <td>0-6</td>\n",
       "      <td>10809395</td>\n",
       "      <td>5636172</td>\n",
       "      <td>5173223</td>\n",
       "      <td>10809395</td>\n",
       "      <td>5636172</td>\n",
       "      <td>5173223</td>\n",
       "      <td>0</td>\n",
       "      <td>0</td>\n",
       "      <td>0</td>\n",
       "    </tr>\n",
       "    <tr>\n",
       "      <th>2003</th>\n",
       "      <td>C2308</td>\n",
       "      <td>23</td>\n",
       "      <td>0</td>\n",
       "      <td>State - MADHYA PRADESH</td>\n",
       "      <td>Total</td>\n",
       "      <td>7</td>\n",
       "      <td>1611608</td>\n",
       "      <td>833279</td>\n",
       "      <td>778329</td>\n",
       "      <td>451689</td>\n",
       "      <td>231135</td>\n",
       "      <td>220554</td>\n",
       "      <td>1159919</td>\n",
       "      <td>602144</td>\n",
       "      <td>557775</td>\n",
       "    </tr>\n",
       "    <tr>\n",
       "      <th>2004</th>\n",
       "      <td>C2308</td>\n",
       "      <td>23</td>\n",
       "      <td>0</td>\n",
       "      <td>State - MADHYA PRADESH</td>\n",
       "      <td>Total</td>\n",
       "      <td>8</td>\n",
       "      <td>1794192</td>\n",
       "      <td>930043</td>\n",
       "      <td>864149</td>\n",
       "      <td>255144</td>\n",
       "      <td>128581</td>\n",
       "      <td>126563</td>\n",
       "      <td>1539048</td>\n",
       "      <td>801462</td>\n",
       "      <td>737586</td>\n",
       "    </tr>\n",
       "    <tr>\n",
       "      <th>2005</th>\n",
       "      <td>C2308</td>\n",
       "      <td>23</td>\n",
       "      <td>0</td>\n",
       "      <td>State - MADHYA PRADESH</td>\n",
       "      <td>Total</td>\n",
       "      <td>9</td>\n",
       "      <td>1522546</td>\n",
       "      <td>784446</td>\n",
       "      <td>738100</td>\n",
       "      <td>145899</td>\n",
       "      <td>72231</td>\n",
       "      <td>73668</td>\n",
       "      <td>1376647</td>\n",
       "      <td>712215</td>\n",
       "      <td>664432</td>\n",
       "    </tr>\n",
       "    <tr>\n",
       "      <th>...</th>\n",
       "      <td>...</td>\n",
       "      <td>...</td>\n",
       "      <td>...</td>\n",
       "      <td>...</td>\n",
       "      <td>...</td>\n",
       "      <td>...</td>\n",
       "      <td>...</td>\n",
       "      <td>...</td>\n",
       "      <td>...</td>\n",
       "      <td>...</td>\n",
       "      <td>...</td>\n",
       "      <td>...</td>\n",
       "      <td>...</td>\n",
       "      <td>...</td>\n",
       "      <td>...</td>\n",
       "    </tr>\n",
       "    <tr>\n",
       "      <th>2083</th>\n",
       "      <td>C2308</td>\n",
       "      <td>23</td>\n",
       "      <td>0</td>\n",
       "      <td>State - MADHYA PRADESH</td>\n",
       "      <td>Urban</td>\n",
       "      <td>65-69</td>\n",
       "      <td>372676</td>\n",
       "      <td>182307</td>\n",
       "      <td>190369</td>\n",
       "      <td>144935</td>\n",
       "      <td>39092</td>\n",
       "      <td>105843</td>\n",
       "      <td>227741</td>\n",
       "      <td>143215</td>\n",
       "      <td>84526</td>\n",
       "    </tr>\n",
       "    <tr>\n",
       "      <th>2084</th>\n",
       "      <td>C2308</td>\n",
       "      <td>23</td>\n",
       "      <td>0</td>\n",
       "      <td>State - MADHYA PRADESH</td>\n",
       "      <td>Urban</td>\n",
       "      <td>70-74</td>\n",
       "      <td>280647</td>\n",
       "      <td>137078</td>\n",
       "      <td>143569</td>\n",
       "      <td>127794</td>\n",
       "      <td>37264</td>\n",
       "      <td>90530</td>\n",
       "      <td>152853</td>\n",
       "      <td>99814</td>\n",
       "      <td>53039</td>\n",
       "    </tr>\n",
       "    <tr>\n",
       "      <th>2085</th>\n",
       "      <td>C2308</td>\n",
       "      <td>23</td>\n",
       "      <td>0</td>\n",
       "      <td>State - MADHYA PRADESH</td>\n",
       "      <td>Urban</td>\n",
       "      <td>75-79</td>\n",
       "      <td>138504</td>\n",
       "      <td>66293</td>\n",
       "      <td>72211</td>\n",
       "      <td>60085</td>\n",
       "      <td>16047</td>\n",
       "      <td>44038</td>\n",
       "      <td>78419</td>\n",
       "      <td>50246</td>\n",
       "      <td>28173</td>\n",
       "    </tr>\n",
       "    <tr>\n",
       "      <th>2086</th>\n",
       "      <td>C2308</td>\n",
       "      <td>23</td>\n",
       "      <td>0</td>\n",
       "      <td>State - MADHYA PRADESH</td>\n",
       "      <td>Urban</td>\n",
       "      <td>80+</td>\n",
       "      <td>176643</td>\n",
       "      <td>77924</td>\n",
       "      <td>98719</td>\n",
       "      <td>87174</td>\n",
       "      <td>23363</td>\n",
       "      <td>63811</td>\n",
       "      <td>89469</td>\n",
       "      <td>54561</td>\n",
       "      <td>34908</td>\n",
       "    </tr>\n",
       "    <tr>\n",
       "      <th>2087</th>\n",
       "      <td>C2308</td>\n",
       "      <td>23</td>\n",
       "      <td>0</td>\n",
       "      <td>State - MADHYA PRADESH</td>\n",
       "      <td>Urban</td>\n",
       "      <td>Age not stated</td>\n",
       "      <td>35552</td>\n",
       "      <td>18501</td>\n",
       "      <td>17051</td>\n",
       "      <td>9833</td>\n",
       "      <td>4350</td>\n",
       "      <td>5483</td>\n",
       "      <td>25719</td>\n",
       "      <td>14151</td>\n",
       "      <td>11568</td>\n",
       "    </tr>\n",
       "  </tbody>\n",
       "</table>\n",
       "<p>87 rows × 15 columns</p>\n",
       "</div>"
      ],
      "text/plain": [
       "       Name  State Code  District Code               Area Name    TRU  \\\n",
       "2001  C2308          23              0  State - MADHYA PRADESH  Total   \n",
       "2002  C2308          23              0  State - MADHYA PRADESH  Total   \n",
       "2003  C2308          23              0  State - MADHYA PRADESH  Total   \n",
       "2004  C2308          23              0  State - MADHYA PRADESH  Total   \n",
       "2005  C2308          23              0  State - MADHYA PRADESH  Total   \n",
       "...     ...         ...            ...                     ...    ...   \n",
       "2083  C2308          23              0  State - MADHYA PRADESH  Urban   \n",
       "2084  C2308          23              0  State - MADHYA PRADESH  Urban   \n",
       "2085  C2308          23              0  State - MADHYA PRADESH  Urban   \n",
       "2086  C2308          23              0  State - MADHYA PRADESH  Urban   \n",
       "2087  C2308          23              0  State - MADHYA PRADESH  Urban   \n",
       "\n",
       "           age_group   persons     males   frmales  Illiterate persons  \\\n",
       "2001        All ages  72626809  37612306  35014503            29775640   \n",
       "2002             0-6  10809395   5636172   5173223            10809395   \n",
       "2003               7   1611608    833279    778329              451689   \n",
       "2004               8   1794192    930043    864149              255144   \n",
       "2005               9   1522546    784446    738100              145899   \n",
       "...              ...       ...       ...       ...                 ...   \n",
       "2083           65-69    372676    182307    190369              144935   \n",
       "2084           70-74    280647    137078    143569              127794   \n",
       "2085           75-79    138504     66293     72211               60085   \n",
       "2086             80+    176643     77924     98719               87174   \n",
       "2087  Age not stated     35552     18501     17051                9833   \n",
       "\n",
       "      illiterate males  illiterate females  literate persons  literate males  \\\n",
       "2001          12437978            17337662          42851169        25174328   \n",
       "2002           5636172             5173223                 0               0   \n",
       "2003            231135              220554           1159919          602144   \n",
       "2004            128581              126563           1539048          801462   \n",
       "2005             72231               73668           1376647          712215   \n",
       "...                ...                 ...               ...             ...   \n",
       "2083             39092              105843            227741          143215   \n",
       "2084             37264               90530            152853           99814   \n",
       "2085             16047               44038             78419           50246   \n",
       "2086             23363               63811             89469           54561   \n",
       "2087              4350                5483             25719           14151   \n",
       "\n",
       "      literate females  \n",
       "2001          17676841  \n",
       "2002                 0  \n",
       "2003            557775  \n",
       "2004            737586  \n",
       "2005            664432  \n",
       "...                ...  \n",
       "2083             84526  \n",
       "2084             53039  \n",
       "2085             28173  \n",
       "2086             34908  \n",
       "2087             11568  \n",
       "\n",
       "[87 rows x 15 columns]"
      ]
     },
     "execution_count": 224,
     "metadata": {},
     "output_type": "execute_result"
    }
   ],
   "source": [
    "state_group.get_group('State - MADHYA PRADESH')\n",
    "#Rajasthan = 55.8\n",
    "#Bihar = 50.4\n",
    "#Himachal = 73.4\n",
    "#MadhyaPradesh = 59"
   ]
  },
  {
   "cell_type": "code",
   "execution_count": 226,
   "id": "2be8eabd",
   "metadata": {},
   "outputs": [],
   "source": [
    "gs_prices = pd.read_csv('EDA_Gold_Silver_prices.csv')"
   ]
  },
  {
   "cell_type": "code",
   "execution_count": 228,
   "id": "8c69b3b6",
   "metadata": {},
   "outputs": [
    {
     "data": {
      "text/html": [
       "<div>\n",
       "<style scoped>\n",
       "    .dataframe tbody tr th:only-of-type {\n",
       "        vertical-align: middle;\n",
       "    }\n",
       "\n",
       "    .dataframe tbody tr th {\n",
       "        vertical-align: top;\n",
       "    }\n",
       "\n",
       "    .dataframe thead th {\n",
       "        text-align: right;\n",
       "    }\n",
       "</style>\n",
       "<table border=\"1\" class=\"dataframe\">\n",
       "  <thead>\n",
       "    <tr style=\"text-align: right;\">\n",
       "      <th></th>\n",
       "      <th>SilverPrice</th>\n",
       "      <th>GoldPrice</th>\n",
       "    </tr>\n",
       "  </thead>\n",
       "  <tbody>\n",
       "    <tr>\n",
       "      <th>SilverPrice</th>\n",
       "      <td>1.000000</td>\n",
       "      <td>0.954256</td>\n",
       "    </tr>\n",
       "    <tr>\n",
       "      <th>GoldPrice</th>\n",
       "      <td>0.954256</td>\n",
       "      <td>1.000000</td>\n",
       "    </tr>\n",
       "  </tbody>\n",
       "</table>\n",
       "</div>"
      ],
      "text/plain": [
       "             SilverPrice  GoldPrice\n",
       "SilverPrice     1.000000   0.954256\n",
       "GoldPrice       0.954256   1.000000"
      ]
     },
     "execution_count": 228,
     "metadata": {},
     "output_type": "execute_result"
    }
   ],
   "source": [
    "gs_prices.corr()"
   ]
  },
  {
   "cell_type": "code",
   "execution_count": 229,
   "id": "d0e64844",
   "metadata": {},
   "outputs": [],
   "source": [
    "gs_prices_dc = gs_prices.copy()"
   ]
  },
  {
   "cell_type": "code",
   "execution_count": 232,
   "id": "313b5072",
   "metadata": {},
   "outputs": [],
   "source": [
    "gs_prices_dc['Year'] = gs_prices_dc['Month'].apply(lambda x: x[4:])"
   ]
  },
  {
   "cell_type": "code",
   "execution_count": 234,
   "id": "d116491a",
   "metadata": {},
   "outputs": [],
   "source": [
    "gs_prices_dc['Month'] = gs_prices_dc['Month'].apply(lambda x: x[0:3])"
   ]
  },
  {
   "cell_type": "code",
   "execution_count": 238,
   "id": "1e4ff1ea",
   "metadata": {},
   "outputs": [],
   "source": [
    "gs_year_group = gs_prices_dc.groupby(['Year'])"
   ]
  },
  {
   "cell_type": "code",
   "execution_count": 240,
   "id": "1beeb9de",
   "metadata": {},
   "outputs": [
    {
     "data": {
      "text/html": [
       "<div>\n",
       "<style scoped>\n",
       "    .dataframe tbody tr th:only-of-type {\n",
       "        vertical-align: middle;\n",
       "    }\n",
       "\n",
       "    .dataframe tbody tr th {\n",
       "        vertical-align: top;\n",
       "    }\n",
       "\n",
       "    .dataframe thead th {\n",
       "        text-align: right;\n",
       "    }\n",
       "</style>\n",
       "<table border=\"1\" class=\"dataframe\">\n",
       "  <thead>\n",
       "    <tr style=\"text-align: right;\">\n",
       "      <th></th>\n",
       "      <th>SilverPrice</th>\n",
       "      <th>GoldPrice</th>\n",
       "    </tr>\n",
       "  </thead>\n",
       "  <tbody>\n",
       "    <tr>\n",
       "      <th>SilverPrice</th>\n",
       "      <td>1.000000</td>\n",
       "      <td>0.009584</td>\n",
       "    </tr>\n",
       "    <tr>\n",
       "      <th>GoldPrice</th>\n",
       "      <td>0.009584</td>\n",
       "      <td>1.000000</td>\n",
       "    </tr>\n",
       "  </tbody>\n",
       "</table>\n",
       "</div>"
      ],
      "text/plain": [
       "             SilverPrice  GoldPrice\n",
       "SilverPrice     1.000000   0.009584\n",
       "GoldPrice       0.009584   1.000000"
      ]
     },
     "execution_count": 240,
     "metadata": {},
     "output_type": "execute_result"
    }
   ],
   "source": [
    "gs_year_group.get_group('08').corr()"
   ]
  },
  {
   "cell_type": "code",
   "execution_count": 241,
   "id": "342255ba",
   "metadata": {},
   "outputs": [],
   "source": [
    "curr = pd.read_csv('currencies.csv')"
   ]
  },
  {
   "cell_type": "code",
   "execution_count": 244,
   "id": "f5193de8",
   "metadata": {},
   "outputs": [
    {
     "data": {
      "text/plain": [
       "Index(['Currency', 'Chinese Yuan', 'Euro', 'Japanese Yen',\n",
       "       'U.K. Pound Sterling', 'U.S. Dollar', 'Algerian Dinar',\n",
       "       'Australian Dollar', 'Bahrain Dinar', 'Botswana Pula', 'Brazilian Real',\n",
       "       'Brunei Dollar', 'Canadian Dollar', 'Chilean Peso', 'Colombian Peso',\n",
       "       'Czech Koruna', 'Danish Krone', 'Hungarian Forint', 'Icelandic Krona',\n",
       "       'Indian Rupee', 'Indonesian Rupiah', 'Iranian Rial',\n",
       "       'Israeli New Sheqel', 'Kazakhstani Tenge', 'Korean Won',\n",
       "       'Kuwaiti Dinar', 'Libyan Dinar', 'Malaysian Ringgit', 'Mauritian Rupee',\n",
       "       'Mexican Peso', 'Nepalese Rupee', 'New Zealand Dollar',\n",
       "       'Norwegian Krone', 'Rial Omani', 'Pakistani Rupee', 'Nuevo Sol',\n",
       "       'Philippine Peso', 'Polish Zloty', 'Qatar Riyal', 'Russian Ruble',\n",
       "       'Saudi Arabian Riyal', 'Singapore Dollar', 'South African Rand',\n",
       "       'Sri Lanka Rupee', 'Swedish Krona', 'Swiss Franc', 'Thai Baht',\n",
       "       'Trinidad And Tobago Dollar', 'Tunisian Dinar', 'U.A.E. Dirham',\n",
       "       'Peso Uruguayo', 'Bolivar Fuerte'],\n",
       "      dtype='object')"
      ]
     },
     "execution_count": 244,
     "metadata": {},
     "output_type": "execute_result"
    }
   ],
   "source": [
    "curr.columns"
   ]
  },
  {
   "cell_type": "code",
   "execution_count": 245,
   "id": "21a113e0",
   "metadata": {},
   "outputs": [],
   "source": [
    "curr = curr[['Euro', 'Japanese Yen', 'U.K. Pound Sterling', 'U.S. Dollar', 'Chinese Yuan', 'Australian Dollar', 'Indian Rupee']]"
   ]
  },
  {
   "cell_type": "code",
   "execution_count": 254,
   "id": "5a2a0e22",
   "metadata": {},
   "outputs": [
    {
     "data": {
      "text/plain": [
       "<AxesSubplot:>"
      ]
     },
     "execution_count": 254,
     "metadata": {},
     "output_type": "execute_result"
    },
    {
     "data": {
      "image/png": "[encoded data removed]",
      "text/plain": [
       "<Figure size 432x288 with 2 Axes>"
      ]
     },
     "metadata": {
      "needs_background": "light"
     },
     "output_type": "display_data"
    }
   ],
   "source": [
    "sns.heatmap(curr.corr(), cmap = 'Greens', annot=True)"
   ]
  },
  {
   "cell_type": "code",
   "execution_count": 255,
   "id": "7ad254b7",
   "metadata": {},
   "outputs": [],
   "source": [
    "nas = pd.read_csv('nas.csv')"
   ]
  },
  {
   "cell_type": "code",
   "execution_count": 257,
   "id": "89b20be8",
   "metadata": {},
   "outputs": [
    {
     "data": {
      "text/plain": [
       "Index(['STUID', 'State', 'District', 'Gender', 'Age', 'Category',\n",
       "       'Same.language', 'Siblings', 'Handicap', 'Father.edu', 'Mother.edu',\n",
       "       'Father.occupation', 'Mother.occupation', 'Below.poverty',\n",
       "       'Use.calculator', 'Use.computer', 'Use.Internet', 'Use.dictionary',\n",
       "       'Read.other.books', 'X..Books', 'Distance', 'Computer.use',\n",
       "       'Library.use', 'Like.school', 'Subjects', 'Give.Lang.HW',\n",
       "       'Give.Math.HW', 'Give.Scie.HW', 'Give.SoSc.HW', 'Correct.Lang.HW',\n",
       "       'Correct.Math.HW', 'Correct.Scie.HW', 'Correct.SocS.HW',\n",
       "       'Help.in.Study', 'Private.tuition', 'English.is.difficult',\n",
       "       'Read.English', 'Dictionary.to.learn', 'Answer.English.WB',\n",
       "       'Answer.English.aloud', 'Maths.is.difficult', 'Solve.Maths',\n",
       "       'Solve.Maths.in.groups', 'Draw.geometry', 'Explain.answers',\n",
       "       'SocSci.is.difficult', 'Historical.excursions', 'Participate.in.SocSci',\n",
       "       'Small.groups.in.SocSci', 'Express.SocSci.views',\n",
       "       'Science.is.difficult', 'Observe.experiments', 'Conduct.experiments',\n",
       "       'Solve.science.problems', 'Express.science.views', 'Watch.TV',\n",
       "       'Read.magazine', 'Read.a.book', 'Play.games', 'Help.in.household',\n",
       "       'Maths..', 'Reading..', 'Science..', 'Social..'],\n",
       "      dtype='object')"
      ]
     },
     "execution_count": 257,
     "metadata": {},
     "output_type": "execute_result"
    }
   ],
   "source": [
    "nas.columns"
   ]
  },
  {
   "cell_type": "code",
   "execution_count": 258,
   "id": "03c823f3",
   "metadata": {},
   "outputs": [],
   "source": []
  },
  {
   "cell_type": "code",
   "execution_count": 266,
   "id": "092fc0ba",
   "metadata": {},
   "outputs": [
    {
     "data": {
      "text/plain": [
       "array(['Illiterate', nan, 'Degree & above', 'Secondary', 'Primary',\n",
       "       'Sr secondary'], dtype=object)"
      ]
     },
     "execution_count": 266,
     "metadata": {},
     "output_type": "execute_result"
    }
   ],
   "source": [
    "nas['Father.edu'].unique()"
   ]
  },
  {
   "cell_type": "code",
   "execution_count": 262,
   "id": "30e48128",
   "metadata": {},
   "outputs": [
    {
     "data": {
      "text/plain": [
       "2 siblings      923\n",
       "1 sibling       533\n",
       "3 siblings      532\n",
       "4+ siblings     469\n",
       "Single child     88\n",
       "Name: Siblings, dtype: int64"
      ]
     },
     "execution_count": 262,
     "metadata": {},
     "output_type": "execute_result"
    }
   ],
   "source": [
    "moth_edu_grp.get_group('Illiterate')['Siblings'].value_counts()"
   ]
  },
  {
   "cell_type": "code",
   "execution_count": 265,
   "id": "6e336ecf",
   "metadata": {},
   "outputs": [],
   "source": [
    "fath_edu_grp = nas.groupby(['Father.edu'])"
   ]
  },
  {
   "cell_type": "code",
   "execution_count": 269,
   "id": "21325fc6",
   "metadata": {},
   "outputs": [
    {
     "data": {
      "text/plain": [
       "43.51987179487178"
      ]
     },
     "execution_count": 269,
     "metadata": {},
     "output_type": "execute_result"
    }
   ],
   "source": [
    "fath_edu_grp.get_group('Degree & above')['Science..'].mean()"
   ]
  },
  {
   "cell_type": "code",
   "execution_count": 270,
   "id": "bcf14b91",
   "metadata": {},
   "outputs": [
    {
     "data": {
      "text/plain": [
       "36.313272200772175"
      ]
     },
     "execution_count": 270,
     "metadata": {},
     "output_type": "execute_result"
    }
   ],
   "source": [
    "nas['Science..'].mean()"
   ]
  },
  {
   "cell_type": "code",
   "execution_count": 268,
   "id": "2b7de5eb",
   "metadata": {},
   "outputs": [],
   "source": [
    "fath_edu_age = fath_edu_grp.get_group('Degree & above').groupby(['Age'])"
   ]
  },
  {
   "cell_type": "code",
   "execution_count": 271,
   "id": "23ca836f",
   "metadata": {},
   "outputs": [
    {
     "data": {
      "text/plain": [
       "Age\n",
       "12 years     46.752857\n",
       "13 years     44.805143\n",
       "14 years     42.676944\n",
       "15 years     29.090000\n",
       "16+ years    32.730000\n",
       "Name: Science.., dtype: float64"
      ]
     },
     "execution_count": 271,
     "metadata": {},
     "output_type": "execute_result"
    }
   ],
   "source": [
    "fath_edu_age['Science..'].mean()"
   ]
  },
  {
   "cell_type": "code",
   "execution_count": 272,
   "id": "07b96291",
   "metadata": {},
   "outputs": [
    {
     "data": {
      "text/html": [
       "<div>\n",
       "<style scoped>\n",
       "    .dataframe tbody tr th:only-of-type {\n",
       "        vertical-align: middle;\n",
       "    }\n",
       "\n",
       "    .dataframe tbody tr th {\n",
       "        vertical-align: top;\n",
       "    }\n",
       "\n",
       "    .dataframe thead th {\n",
       "        text-align: right;\n",
       "    }\n",
       "</style>\n",
       "<table border=\"1\" class=\"dataframe\">\n",
       "  <thead>\n",
       "    <tr style=\"text-align: right;\">\n",
       "      <th></th>\n",
       "      <th>STUID</th>\n",
       "      <th>State</th>\n",
       "      <th>District</th>\n",
       "      <th>Gender</th>\n",
       "      <th>Age</th>\n",
       "      <th>Category</th>\n",
       "      <th>Same.language</th>\n",
       "      <th>Siblings</th>\n",
       "      <th>Handicap</th>\n",
       "      <th>Father.edu</th>\n",
       "      <th>...</th>\n",
       "      <th>Express.science.views</th>\n",
       "      <th>Watch.TV</th>\n",
       "      <th>Read.magazine</th>\n",
       "      <th>Read.a.book</th>\n",
       "      <th>Play.games</th>\n",
       "      <th>Help.in.household</th>\n",
       "      <th>Maths..</th>\n",
       "      <th>Reading..</th>\n",
       "      <th>Science..</th>\n",
       "      <th>Social..</th>\n",
       "    </tr>\n",
       "  </thead>\n",
       "  <tbody>\n",
       "    <tr>\n",
       "      <th>0</th>\n",
       "      <td>26011001001</td>\n",
       "      <td>Maharashtra</td>\n",
       "      <td>1</td>\n",
       "      <td>Girl</td>\n",
       "      <td>13 years</td>\n",
       "      <td>3.0</td>\n",
       "      <td>2.0</td>\n",
       "      <td>1 sibling</td>\n",
       "      <td>No</td>\n",
       "      <td>Illiterate</td>\n",
       "      <td>...</td>\n",
       "      <td>Agree</td>\n",
       "      <td>Every day</td>\n",
       "      <td>Never</td>\n",
       "      <td>Once a month</td>\n",
       "      <td>Once a week</td>\n",
       "      <td>Every day</td>\n",
       "      <td>NaN</td>\n",
       "      <td>33.33</td>\n",
       "      <td>NaN</td>\n",
       "      <td>NaN</td>\n",
       "    </tr>\n",
       "    <tr>\n",
       "      <th>1</th>\n",
       "      <td>26011001002</td>\n",
       "      <td>Maharashtra</td>\n",
       "      <td>1</td>\n",
       "      <td>Girl</td>\n",
       "      <td>15 years</td>\n",
       "      <td>3.0</td>\n",
       "      <td>2.0</td>\n",
       "      <td>3 siblings</td>\n",
       "      <td>No</td>\n",
       "      <td>NaN</td>\n",
       "      <td>...</td>\n",
       "      <td>Agree</td>\n",
       "      <td>Once a week</td>\n",
       "      <td>Never</td>\n",
       "      <td>Never</td>\n",
       "      <td>Once a week</td>\n",
       "      <td>Every day</td>\n",
       "      <td>NaN</td>\n",
       "      <td>62.07</td>\n",
       "      <td>NaN</td>\n",
       "      <td>NaN</td>\n",
       "    </tr>\n",
       "    <tr>\n",
       "      <th>2</th>\n",
       "      <td>26011001003</td>\n",
       "      <td>Maharashtra</td>\n",
       "      <td>1</td>\n",
       "      <td>Girl</td>\n",
       "      <td>14 years</td>\n",
       "      <td>3.0</td>\n",
       "      <td>2.0</td>\n",
       "      <td>3 siblings</td>\n",
       "      <td>No</td>\n",
       "      <td>Degree &amp; above</td>\n",
       "      <td>...</td>\n",
       "      <td>Agree</td>\n",
       "      <td>Every day</td>\n",
       "      <td>Once a month</td>\n",
       "      <td>Once a month</td>\n",
       "      <td>Once a week</td>\n",
       "      <td>Every day</td>\n",
       "      <td>NaN</td>\n",
       "      <td>41.38</td>\n",
       "      <td>NaN</td>\n",
       "      <td>NaN</td>\n",
       "    </tr>\n",
       "    <tr>\n",
       "      <th>3</th>\n",
       "      <td>26011001004</td>\n",
       "      <td>Maharashtra</td>\n",
       "      <td>1</td>\n",
       "      <td>Boy</td>\n",
       "      <td>13 years</td>\n",
       "      <td>3.0</td>\n",
       "      <td>2.0</td>\n",
       "      <td>3 siblings</td>\n",
       "      <td>No</td>\n",
       "      <td>Secondary</td>\n",
       "      <td>...</td>\n",
       "      <td>Agree</td>\n",
       "      <td>Every day</td>\n",
       "      <td>Every day</td>\n",
       "      <td>Never</td>\n",
       "      <td>Every day</td>\n",
       "      <td>Every day</td>\n",
       "      <td>29.82</td>\n",
       "      <td>NaN</td>\n",
       "      <td>NaN</td>\n",
       "      <td>NaN</td>\n",
       "    </tr>\n",
       "    <tr>\n",
       "      <th>4</th>\n",
       "      <td>26011001005</td>\n",
       "      <td>Maharashtra</td>\n",
       "      <td>1</td>\n",
       "      <td>Girl</td>\n",
       "      <td>14 years</td>\n",
       "      <td>3.0</td>\n",
       "      <td>2.0</td>\n",
       "      <td>2 siblings</td>\n",
       "      <td>No</td>\n",
       "      <td>Primary</td>\n",
       "      <td>...</td>\n",
       "      <td>Neither</td>\n",
       "      <td>Never</td>\n",
       "      <td>Never</td>\n",
       "      <td>Once a month</td>\n",
       "      <td>Once a week</td>\n",
       "      <td>Every day</td>\n",
       "      <td>NaN</td>\n",
       "      <td>NaN</td>\n",
       "      <td>27.27</td>\n",
       "      <td>NaN</td>\n",
       "    </tr>\n",
       "  </tbody>\n",
       "</table>\n",
       "<p>5 rows × 64 columns</p>\n",
       "</div>"
      ],
      "text/plain": [
       "         STUID        State  District Gender       Age  Category  \\\n",
       "0  26011001001  Maharashtra         1   Girl  13 years       3.0   \n",
       "1  26011001002  Maharashtra         1   Girl  15 years       3.0   \n",
       "2  26011001003  Maharashtra         1   Girl  14 years       3.0   \n",
       "3  26011001004  Maharashtra         1    Boy  13 years       3.0   \n",
       "4  26011001005  Maharashtra         1   Girl  14 years       3.0   \n",
       "\n",
       "   Same.language    Siblings Handicap      Father.edu  ...  \\\n",
       "0            2.0   1 sibling       No      Illiterate  ...   \n",
       "1            2.0  3 siblings       No             NaN  ...   \n",
       "2            2.0  3 siblings       No  Degree & above  ...   \n",
       "3            2.0  3 siblings       No       Secondary  ...   \n",
       "4            2.0  2 siblings       No         Primary  ...   \n",
       "\n",
       "  Express.science.views     Watch.TV Read.magazine   Read.a.book   Play.games  \\\n",
       "0                 Agree    Every day         Never  Once a month  Once a week   \n",
       "1                 Agree  Once a week         Never         Never  Once a week   \n",
       "2                 Agree    Every day  Once a month  Once a month  Once a week   \n",
       "3                 Agree    Every day     Every day         Never    Every day   \n",
       "4               Neither        Never         Never  Once a month  Once a week   \n",
       "\n",
       "  Help.in.household Maths.. Reading.. Science.. Social..  \n",
       "0         Every day     NaN     33.33       NaN      NaN  \n",
       "1         Every day     NaN     62.07       NaN      NaN  \n",
       "2         Every day     NaN     41.38       NaN      NaN  \n",
       "3         Every day   29.82       NaN       NaN      NaN  \n",
       "4         Every day     NaN       NaN     27.27      NaN  \n",
       "\n",
       "[5 rows x 64 columns]"
      ]
     },
     "execution_count": 272,
     "metadata": {},
     "output_type": "execute_result"
    }
   ],
   "source": [
    "nas.head()"
   ]
  },
  {
   "cell_type": "code",
   "execution_count": 273,
   "id": "cd86b4bc",
   "metadata": {},
   "outputs": [],
   "source": [
    "cust_rating = pd.read_csv('https://media-doselect.s3.amazonaws.com/generic/GvOkzy5MLdy9zJ8vXMArwpRvN/rating_final.csv')"
   ]
  },
  {
   "cell_type": "code",
   "execution_count": 274,
   "id": "3516b5be",
   "metadata": {},
   "outputs": [
    {
     "data": {
      "text/html": [
       "<div>\n",
       "<style scoped>\n",
       "    .dataframe tbody tr th:only-of-type {\n",
       "        vertical-align: middle;\n",
       "    }\n",
       "\n",
       "    .dataframe tbody tr th {\n",
       "        vertical-align: top;\n",
       "    }\n",
       "\n",
       "    .dataframe thead th {\n",
       "        text-align: right;\n",
       "    }\n",
       "</style>\n",
       "<table border=\"1\" class=\"dataframe\">\n",
       "  <thead>\n",
       "    <tr style=\"text-align: right;\">\n",
       "      <th></th>\n",
       "      <th>userID</th>\n",
       "      <th>placeID</th>\n",
       "      <th>rating</th>\n",
       "      <th>food_rating</th>\n",
       "      <th>service_rating</th>\n",
       "    </tr>\n",
       "  </thead>\n",
       "  <tbody>\n",
       "    <tr>\n",
       "      <th>0</th>\n",
       "      <td>U1077</td>\n",
       "      <td>135085</td>\n",
       "      <td>2</td>\n",
       "      <td>2</td>\n",
       "      <td>2</td>\n",
       "    </tr>\n",
       "    <tr>\n",
       "      <th>1</th>\n",
       "      <td>U1077</td>\n",
       "      <td>135038</td>\n",
       "      <td>2</td>\n",
       "      <td>2</td>\n",
       "      <td>1</td>\n",
       "    </tr>\n",
       "    <tr>\n",
       "      <th>2</th>\n",
       "      <td>U1077</td>\n",
       "      <td>132825</td>\n",
       "      <td>2</td>\n",
       "      <td>2</td>\n",
       "      <td>2</td>\n",
       "    </tr>\n",
       "    <tr>\n",
       "      <th>3</th>\n",
       "      <td>U1077</td>\n",
       "      <td>135060</td>\n",
       "      <td>1</td>\n",
       "      <td>2</td>\n",
       "      <td>2</td>\n",
       "    </tr>\n",
       "    <tr>\n",
       "      <th>4</th>\n",
       "      <td>U1068</td>\n",
       "      <td>135104</td>\n",
       "      <td>1</td>\n",
       "      <td>1</td>\n",
       "      <td>2</td>\n",
       "    </tr>\n",
       "  </tbody>\n",
       "</table>\n",
       "</div>"
      ],
      "text/plain": [
       "  userID  placeID  rating  food_rating  service_rating\n",
       "0  U1077   135085       2            2               2\n",
       "1  U1077   135038       2            2               1\n",
       "2  U1077   132825       2            2               2\n",
       "3  U1077   135060       1            2               2\n",
       "4  U1068   135104       1            1               2"
      ]
     },
     "execution_count": 274,
     "metadata": {},
     "output_type": "execute_result"
    }
   ],
   "source": [
    "cust_rating.head()"
   ]
  },
  {
   "cell_type": "code",
   "execution_count": 276,
   "id": "497710e2",
   "metadata": {},
   "outputs": [],
   "source": [
    "cust_rating['avg_rating'] = round((cust_rating['rating'] + cust_rating['food_rating'] + cust_rating['service_rating'])/3)"
   ]
  },
  {
   "cell_type": "code",
   "execution_count": 277,
   "id": "fd1cd1bb",
   "metadata": {},
   "outputs": [],
   "source": [
    "odi_data = pd.read_csv('odi-batting.csv')\n",
    "#'Sachin R Tendulkar', 'Ricky T Ponting', 'Shahid Afridi', 'Mark V Boucher', 'Sanath T Jayasuriya', 'Shane R Watson'"
   ]
  },
  {
   "cell_type": "code",
   "execution_count": 294,
   "id": "7cad51c1",
   "metadata": {},
   "outputs": [
    {
     "data": {
      "text/plain": [
       "Index(['Country', 'Player', 'Runs', 'MatchDate', 'Weekday', 'Ground', 'Versus',\n",
       "       'Balls', 'century'],\n",
       "      dtype='object')"
      ]
     },
     "execution_count": 294,
     "metadata": {},
     "output_type": "execute_result"
    }
   ],
   "source": [
    "odi_data.columns"
   ]
  },
  {
   "cell_type": "code",
   "execution_count": 289,
   "id": "86c9e711",
   "metadata": {},
   "outputs": [],
   "source": [
    "odi_data['century'] = odi_data['Runs'].apply(lambda x: 1 if x >= 100 else 0)"
   ]
  },
  {
   "cell_type": "code",
   "execution_count": 295,
   "id": "6293746c",
   "metadata": {},
   "outputs": [],
   "source": [
    "odi_data['str_rt'] = (odi_data['Runs'] / odi_data['Balls']) * 100"
   ]
  },
  {
   "cell_type": "code",
   "execution_count": 296,
   "id": "24e58576",
   "metadata": {},
   "outputs": [],
   "source": [
    "player_group = odi_data.groupby(['Player'])"
   ]
  },
  {
   "cell_type": "code",
   "execution_count": 303,
   "id": "4a0204ff",
   "metadata": {},
   "outputs": [
    {
     "data": {
      "text/plain": [
       "count      6.000000\n",
       "mean     176.695933\n",
       "std       58.944180\n",
       "min      115.957447\n",
       "25%      123.898741\n",
       "50%      175.043860\n",
       "75%      217.971014\n",
       "max      255.000000\n",
       "Name: str_rt, dtype: float64"
      ]
     },
     "execution_count": 303,
     "metadata": {},
     "output_type": "execute_result"
    }
   ],
   "source": [
    "player_group.get_group('Shahid Afridi')[player_group.get_group('Shahid Afridi')['century'] == 1]['str_rt'].describe()"
   ]
  },
  {
   "cell_type": "code",
   "execution_count": 305,
   "id": "b9d03cc3",
   "metadata": {},
   "outputs": [
    {
     "data": {
      "text/plain": [
       "count      1.000000\n",
       "mean     216.176471\n",
       "std             NaN\n",
       "min      216.176471\n",
       "25%      216.176471\n",
       "50%      216.176471\n",
       "75%      216.176471\n",
       "max      216.176471\n",
       "Name: str_rt, dtype: float64"
      ]
     },
     "execution_count": 305,
     "metadata": {},
     "output_type": "execute_result"
    }
   ],
   "source": [
    "player_group.get_group('Mark V Boucher')[player_group.get_group('Mark V Boucher')['century'] == 1]['str_rt'].describe()"
   ]
  },
  {
   "cell_type": "code",
   "execution_count": 306,
   "id": "0d33281b",
   "metadata": {},
   "outputs": [
    {
     "data": {
      "text/plain": [
       "count     28.000000\n",
       "mean     116.534590\n",
       "std       26.082538\n",
       "min       85.000000\n",
       "25%       96.272727\n",
       "50%      115.025931\n",
       "75%      126.558908\n",
       "max      206.153846\n",
       "Name: str_rt, dtype: float64"
      ]
     },
     "execution_count": 306,
     "metadata": {},
     "output_type": "execute_result"
    }
   ],
   "source": [
    "player_group.get_group('Sanath T Jayasuriya')[player_group.get_group('Sanath T Jayasuriya')['century'] == 1]['str_rt'].describe()"
   ]
  },
  {
   "cell_type": "code",
   "execution_count": 307,
   "id": "82fbe4c8",
   "metadata": {},
   "outputs": [
    {
     "data": {
      "text/plain": [
       "count      6.000000\n",
       "mean     111.199677\n",
       "std       41.675652\n",
       "min       79.452055\n",
       "25%       86.804087\n",
       "50%      103.154496\n",
       "75%      106.319672\n",
       "max      192.708333\n",
       "Name: str_rt, dtype: float64"
      ]
     },
     "execution_count": 307,
     "metadata": {},
     "output_type": "execute_result"
    }
   ],
   "source": [
    "player_group.get_group('Shane R Watson')[player_group.get_group('Shane R Watson')['century'] == 1]['str_rt'].describe()"
   ]
  },
  {
   "cell_type": "code",
   "execution_count": 311,
   "id": "a0d2d6e8",
   "metadata": {},
   "outputs": [],
   "source": [
    "odi_data['year'] = odi_data['MatchDate'].apply(lambda x: x[6:])"
   ]
  },
  {
   "cell_type": "code",
   "execution_count": 316,
   "id": "05e6c863",
   "metadata": {},
   "outputs": [
    {
     "data": {
      "text/html": [
       "<div>\n",
       "<style scoped>\n",
       "    .dataframe tbody tr th:only-of-type {\n",
       "        vertical-align: middle;\n",
       "    }\n",
       "\n",
       "    .dataframe tbody tr th {\n",
       "        vertical-align: top;\n",
       "    }\n",
       "\n",
       "    .dataframe thead th {\n",
       "        text-align: right;\n",
       "    }\n",
       "</style>\n",
       "<table border=\"1\" class=\"dataframe\">\n",
       "  <thead>\n",
       "    <tr style=\"text-align: right;\">\n",
       "      <th></th>\n",
       "      <th>Country</th>\n",
       "      <th>Player</th>\n",
       "      <th>Runs</th>\n",
       "      <th>MatchDate</th>\n",
       "      <th>Weekday</th>\n",
       "      <th>Ground</th>\n",
       "      <th>Versus</th>\n",
       "      <th>Balls</th>\n",
       "      <th>century</th>\n",
       "      <th>str_rt</th>\n",
       "      <th>year</th>\n",
       "    </tr>\n",
       "  </thead>\n",
       "  <tbody>\n",
       "    <tr>\n",
       "      <th>0</th>\n",
       "      <td>Afghanistan</td>\n",
       "      <td>Mohammad Shahzad</td>\n",
       "      <td>118</td>\n",
       "      <td>16-02-2010</td>\n",
       "      <td>Tue</td>\n",
       "      <td>Sharjah CA Stadium</td>\n",
       "      <td>Canada</td>\n",
       "      <td>121</td>\n",
       "      <td>1</td>\n",
       "      <td>97.520661</td>\n",
       "      <td>2010</td>\n",
       "    </tr>\n",
       "    <tr>\n",
       "      <th>1</th>\n",
       "      <td>Afghanistan</td>\n",
       "      <td>Mohammad Shahzad</td>\n",
       "      <td>110</td>\n",
       "      <td>01-09-2009</td>\n",
       "      <td>Tue</td>\n",
       "      <td>VRA Ground</td>\n",
       "      <td>Netherlands</td>\n",
       "      <td>111</td>\n",
       "      <td>1</td>\n",
       "      <td>99.099099</td>\n",
       "      <td>2009</td>\n",
       "    </tr>\n",
       "    <tr>\n",
       "      <th>2</th>\n",
       "      <td>Afghanistan</td>\n",
       "      <td>Mohammad Shahzad</td>\n",
       "      <td>100</td>\n",
       "      <td>16-08-2010</td>\n",
       "      <td>Mon</td>\n",
       "      <td>Cambusdoon New Ground</td>\n",
       "      <td>Scotland</td>\n",
       "      <td>72</td>\n",
       "      <td>1</td>\n",
       "      <td>138.888889</td>\n",
       "      <td>2010</td>\n",
       "    </tr>\n",
       "    <tr>\n",
       "      <th>3</th>\n",
       "      <td>Afghanistan</td>\n",
       "      <td>Mohammad Shahzad</td>\n",
       "      <td>82</td>\n",
       "      <td>10-07-2010</td>\n",
       "      <td>Sat</td>\n",
       "      <td>Hazelaarweg</td>\n",
       "      <td>Netherlands</td>\n",
       "      <td>108</td>\n",
       "      <td>0</td>\n",
       "      <td>75.925926</td>\n",
       "      <td>2010</td>\n",
       "    </tr>\n",
       "    <tr>\n",
       "      <th>4</th>\n",
       "      <td>Afghanistan</td>\n",
       "      <td>Mohammad Shahzad</td>\n",
       "      <td>57</td>\n",
       "      <td>01-07-2010</td>\n",
       "      <td>Thu</td>\n",
       "      <td>Sportpark Westvliet</td>\n",
       "      <td>Canada</td>\n",
       "      <td>57</td>\n",
       "      <td>0</td>\n",
       "      <td>100.000000</td>\n",
       "      <td>2010</td>\n",
       "    </tr>\n",
       "  </tbody>\n",
       "</table>\n",
       "</div>"
      ],
      "text/plain": [
       "       Country            Player  Runs   MatchDate Weekday  \\\n",
       "0  Afghanistan  Mohammad Shahzad   118  16-02-2010     Tue   \n",
       "1  Afghanistan  Mohammad Shahzad   110  01-09-2009     Tue   \n",
       "2  Afghanistan  Mohammad Shahzad   100  16-08-2010     Mon   \n",
       "3  Afghanistan  Mohammad Shahzad    82  10-07-2010     Sat   \n",
       "4  Afghanistan  Mohammad Shahzad    57  01-07-2010     Thu   \n",
       "\n",
       "                  Ground       Versus  Balls  century      str_rt  year  \n",
       "0     Sharjah CA Stadium       Canada    121        1   97.520661  2010  \n",
       "1             VRA Ground  Netherlands    111        1   99.099099  2009  \n",
       "2  Cambusdoon New Ground     Scotland     72        1  138.888889  2010  \n",
       "3            Hazelaarweg  Netherlands    108        0   75.925926  2010  \n",
       "4    Sportpark Westvliet       Canada     57        0  100.000000  2010  "
      ]
     },
     "execution_count": 316,
     "metadata": {},
     "output_type": "execute_result"
    }
   ],
   "source": [
    "odi_data.head()"
   ]
  },
  {
   "cell_type": "code",
   "execution_count": 317,
   "id": "f3b86b13",
   "metadata": {},
   "outputs": [],
   "source": [
    "odi_data_ind = odi_data[odi_data['Country'] == 'India']"
   ]
  },
  {
   "cell_type": "code",
   "execution_count": 318,
   "id": "bc5c0452",
   "metadata": {},
   "outputs": [],
   "source": [
    "year_group = odi_data_ind.groupby(['year'])"
   ]
  },
  {
   "cell_type": "code",
   "execution_count": 321,
   "id": "1517dc8d",
   "metadata": {},
   "outputs": [
    {
     "data": {
      "text/plain": [
       "year\n",
       "1974     0\n",
       "1975     0\n",
       "1976     0\n",
       "1978     0\n",
       "1979     0\n",
       "1980     0\n",
       "1981     0\n",
       "1982     0\n",
       "1983     1\n",
       "1984     3\n",
       "1985     0\n",
       "1986     2\n",
       "1987     4\n",
       "1988     5\n",
       "1989     2\n",
       "1990     3\n",
       "1991     2\n",
       "1992     1\n",
       "1993     2\n",
       "1994     7\n",
       "1995     1\n",
       "1996     8\n",
       "1997     7\n",
       "1998    18\n",
       "1999    15\n",
       "2000    10\n",
       "2001     9\n",
       "2002     9\n",
       "2003    10\n",
       "2004     7\n",
       "2005    11\n",
       "2006     5\n",
       "2007     5\n",
       "2008    10\n",
       "2009    13\n",
       "2010    12\n",
       "2011     8\n",
       "Name: century, dtype: int64"
      ]
     },
     "execution_count": 321,
     "metadata": {},
     "output_type": "execute_result"
    }
   ],
   "source": [
    "year_group['century'].sum()"
   ]
  },
  {
   "cell_type": "code",
   "execution_count": 389,
   "id": "cd916a7d",
   "metadata": {},
   "outputs": [],
   "source": [
    "grades = pd.read_csv('grades.csv')"
   ]
  },
  {
   "cell_type": "code",
   "execution_count": 390,
   "id": "1ae29f6a",
   "metadata": {},
   "outputs": [],
   "source": [
    "grades['submit_time'] = pd.to_datetime(grades['submit_time'])"
   ]
  },
  {
   "cell_type": "code",
   "execution_count": 391,
   "id": "9fdfdcac",
   "metadata": {},
   "outputs": [],
   "source": [
    "grades['date'] = grades['submit_time'].dt.date"
   ]
  },
  {
   "cell_type": "code",
   "execution_count": 392,
   "id": "73acdcf5",
   "metadata": {},
   "outputs": [],
   "source": [
    "grades['year'] = grades['submit_time'].dt.year"
   ]
  },
  {
   "cell_type": "code",
   "execution_count": 393,
   "id": "589cfb8a",
   "metadata": {},
   "outputs": [],
   "source": [
    "grades['month'] = grades['submit_time'].dt.month"
   ]
  },
  {
   "cell_type": "code",
   "execution_count": 394,
   "id": "0b9fe08f",
   "metadata": {},
   "outputs": [],
   "source": [
    "grades['hour'] = grades['submit_time'].dt.hour"
   ]
  },
  {
   "cell_type": "code",
   "execution_count": 395,
   "id": "ddac5487",
   "metadata": {},
   "outputs": [],
   "source": [
    "grades['minutes'] = grades['submit_time'].dt.minute"
   ]
  },
  {
   "cell_type": "code",
   "execution_count": 396,
   "id": "5b4b9e63",
   "metadata": {},
   "outputs": [],
   "source": [
    "grades['day'] = grades['submit_time'].dt.day"
   ]
  },
  {
   "cell_type": "code",
   "execution_count": 397,
   "id": "a15ca2cc",
   "metadata": {},
   "outputs": [],
   "source": [
    "grades['file_type'] = grades['submission'].apply(lambda x: x.split('/')[-1].split('.')[-1])"
   ]
  },
  {
   "cell_type": "code",
   "execution_count": 398,
   "id": "f7facf7f",
   "metadata": {},
   "outputs": [],
   "source": [
    "grades['rollno'] = grades['submission'].apply(lambda x: x.split('/')[-1].split('.')[0])"
   ]
  },
  {
   "cell_type": "code",
   "execution_count": 399,
   "id": "08773969",
   "metadata": {},
   "outputs": [
    {
     "data": {
      "text/plain": [
       "zip    189\n",
       "R        7\n",
       "7z       2\n",
       "Name: file_type, dtype: int64"
      ]
     },
     "execution_count": 399,
     "metadata": {},
     "output_type": "execute_result"
    }
   ],
   "source": [
    "grades['file_type'].value_counts()"
   ]
  },
  {
   "cell_type": "code",
   "execution_count": 426,
   "id": "26108bad",
   "metadata": {},
   "outputs": [],
   "source": [
    "grades_after_first = grades[grades['date'] > pd.to_datetime('2017-01-03 11:59:00')]"
   ]
  },
  {
   "cell_type": "code",
   "execution_count": 408,
   "id": "1e2b032a",
   "metadata": {},
   "outputs": [
    {
     "data": {
      "text/plain": [
       "datetime.datetime(2017, 1, 3, 11, 59, 59)"
      ]
     },
     "execution_count": 408,
     "metadata": {},
     "output_type": "execute_result"
    }
   ],
   "source": [
    "from datetime import datetime\n",
    "\n",
    "datetime.strptime('2017-01-03 11:59:59', '%Y-%m-%d %H:%M:%S')"
   ]
  },
  {
   "cell_type": "code",
   "execution_count": 427,
   "id": "f67b0df8",
   "metadata": {},
   "outputs": [
    {
     "data": {
      "text/plain": [
       "(44, 10)"
      ]
     },
     "execution_count": 427,
     "metadata": {},
     "output_type": "execute_result"
    }
   ],
   "source": [
    "grades_after_first.shape"
   ]
  },
  {
   "cell_type": "code",
   "execution_count": 431,
   "id": "21febf6b",
   "metadata": {},
   "outputs": [
    {
     "data": {
      "text/plain": [
       "23    66\n",
       "21    27\n",
       "22    24\n",
       "20    16\n",
       "0     10\n",
       "1      8\n",
       "13     6\n",
       "18     6\n",
       "14     6\n",
       "17     4\n",
       "15     4\n",
       "12     3\n",
       "10     3\n",
       "3      3\n",
       "16     2\n",
       "19     2\n",
       "4      2\n",
       "2      2\n",
       "11     1\n",
       "8      1\n",
       "9      1\n",
       "6      1\n",
       "Name: hour, dtype: int64"
      ]
     },
     "execution_count": 431,
     "metadata": {},
     "output_type": "execute_result"
    }
   ],
   "source": [
    "grades['hour'].value_counts()"
   ]
  },
  {
   "cell_type": "code",
   "execution_count": 430,
   "id": "fae3ddda",
   "metadata": {},
   "outputs": [
    {
     "data": {
      "text/plain": [
       "<AxesSubplot:xlabel='hour', ylabel='Count'>"
      ]
     },
     "execution_count": 430,
     "metadata": {},
     "output_type": "execute_result"
    },
    {
     "data": {
      "image/png": "[encoded data removed]",
      "text/plain": [
       "<Figure size 432x288 with 1 Axes>"
      ]
     },
     "metadata": {
      "needs_background": "light"
     },
     "output_type": "display_data"
    }
   ],
   "source": [
    "sns.histplot(grades['hour'])"
   ]
  },
  {
   "cell_type": "code",
   "execution_count": 388,
   "id": "92421bf0",
   "metadata": {},
   "outputs": [
    {
     "data": {
      "text/plain": [
       "42"
      ]
     },
     "execution_count": 388,
     "metadata": {},
     "output_type": "execute_result"
    }
   ],
   "source": [
    "198-156"
   ]
  }
 ],
 "metadata": {
  "kernelspec": {
   "display_name": "Python 3",
   "language": "python",
   "name": "python3"
  },
  "language_info": {
   "codemirror_mode": {
    "name": "ipython",
    "version": 3
   },
   "file_extension": ".py",
   "mimetype": "text/x-python",
   "name": "python",
   "nbconvert_exporter": "python",
   "pygments_lexer": "ipython3",
   "version": "3.8.8"
  }
 },
 "nbformat": 4,
 "nbformat_minor": 5
}
