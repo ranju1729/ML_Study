{
 "cells": [
  {
   "cell_type": "code",
   "execution_count": 23,
   "id": "17a9b547",
   "metadata": {},
   "outputs": [],
   "source": [
    "import matplotlib.pyplot as plt\n",
    "import numpy as np\n",
    "\n",
    "product_category = np.array(['Furniture', 'technology','Office Supplies'])\n",
    "Sales = np.array([1235611, 1423811,2700011])"
   ]
  },
  {
   "cell_type": "code",
   "execution_count": 21,
   "id": "9d7506df",
   "metadata": {},
   "outputs": [
    {
     "data": {
      "text/plain": [
       "([<matplotlib.axis.YTick at 0x1b68d476ac0>,\n",
       "  <matplotlib.axis.YTick at 0x1b68d476430>,\n",
       "  <matplotlib.axis.YTick at 0x1b68d3f8370>,\n",
       "  <matplotlib.axis.YTick at 0x1b68d44b730>,\n",
       "  <matplotlib.axis.YTick at 0x1b68d44b1f0>,\n",
       "  <matplotlib.axis.YTick at 0x1b68d53a4f0>],\n",
       " [Text(0, 0, '0M'),\n",
       "  Text(0, 100000, '0M'),\n",
       "  Text(0, 200000, '0M'),\n",
       "  Text(0, 300000, '0M'),\n",
       "  Text(0, 400000, '0M'),\n",
       "  Text(0, 500000, '0M')])"
      ]
     },
     "execution_count": 21,
     "metadata": {},
     "output_type": "execute_result"
    },
    {
     "data": {
      "image/png": "[encoded data removed]",
      "text/plain": [
       "<Figure size 432x288 with 1 Axes>"
      ]
     },
     "metadata": {
      "needs_background": "light"
     },
     "output_type": "display_data"
    }
   ],
   "source": [
    "# plot chart setting bar width and align to center\n",
    "plt.bar(product_category, Sales, width=0.5, align='center',edgecolor='Orange',color='cyan')\n",
    "\n",
    "# adding and formatting title\n",
    "plt.title('Sales Across product Categories\\n', fontdict={'fontsize':20, 'fontweight':5, 'color':'Green'})\n",
    "\n",
    "# labelling Axes\n",
    "plt.xlabel(\"\\nProduct Category\", fontdict={'fontsize':12, 'fontweight':5, 'color':'brown'})\n",
    "plt.ylabel(\"Sales\\n\", fontdict={'fontsize':12, 'fontweight':5, 'color':'brown'})\n",
    "\n",
    "# modify ticks\n",
    "ticks = np.arange(0, 600000, 100000)\n",
    "labels = [\"{}M\".format(i//1000000) for i in ticks]\n",
    "plt.yticks(ticks, labels)"
   ]
  },
  {
   "cell_type": "code",
   "execution_count": 29,
   "id": "ea9cae8d",
   "metadata": {},
   "outputs": [
    {
     "data": {
      "text/plain": [
       "[<matplotlib.lines.Line2D at 0x1b68e7537f0>]"
      ]
     },
     "execution_count": 29,
     "metadata": {},
     "output_type": "execute_result"
    },
    {
     "data": {
      "image/png": "[encoded data removed]",
      "text/plain": [
       "<Figure size 432x288 with 1 Axes>"
      ]
     },
     "metadata": {
      "needs_background": "light"
     },
     "output_type": "display_data"
    }
   ],
   "source": [
    "number = np.array([12,13,14])\n",
    "plt.plot(number, Sales, 'b', marker='x')"
   ]
  },
  {
   "cell_type": "code",
   "execution_count": 30,
   "id": "9beb4d1f",
   "metadata": {},
   "outputs": [],
   "source": [
    "list_1 = [48.49, 67.54, 57.47, 68.17, 51.18, 68.31, 50.33, 66.7, 45.62, 43.59, 53.64, 70.08, 47.69, 61.27, 44.14, 51.62, 48.72, 65.11]"
   ]
  },
  {
   "cell_type": "code",
   "execution_count": 32,
   "id": "227ea804",
   "metadata": {},
   "outputs": [
    {
     "data": {
      "text/plain": [
       "(array([6., 5., 6., 1.]),\n",
       " array([40., 50., 60., 70., 80.]),\n",
       " <BarContainer object of 4 artists>)"
      ]
     },
     "execution_count": 32,
     "metadata": {},
     "output_type": "execute_result"
    },
    {
     "data": {
      "image/png": "[encoded data removed]",
      "text/plain": [
       "<Figure size 432x288 with 1 Axes>"
      ]
     },
     "metadata": {
      "needs_background": "light"
     },
     "output_type": "display_data"
    }
   ],
   "source": [
    "plt.hist(list_1, bins = 4, range =[40, 80], edgecolor = 'white')"
   ]
  },
  {
   "cell_type": "code",
   "execution_count": 33,
   "id": "d1a90602",
   "metadata": {},
   "outputs": [],
   "source": [
    "list_1 = [48.49, 67.54, 57.47, 68.17, 51.18, 68.31, 50.33, 66.7, 45.62, 43.59, 53.64, 70.08, 47.69, 61.27, 44.14, 51.62, 48.72, 65.11]"
   ]
  },
  {
   "cell_type": "code",
   "execution_count": 40,
   "id": "49e80a83",
   "metadata": {},
   "outputs": [
    {
     "data": {
      "text/plain": [
       "48.5475"
      ]
     },
     "execution_count": 40,
     "metadata": {},
     "output_type": "execute_result"
    }
   ],
   "source": [
    "np.percentile(list_1, 25)"
   ]
  },
  {
   "cell_type": "code",
   "execution_count": 42,
   "id": "b563f8eb",
   "metadata": {},
   "outputs": [
    {
     "data": {
      "text/plain": [
       "<AxesSubplot:>"
      ]
     },
     "execution_count": 42,
     "metadata": {},
     "output_type": "execute_result"
    },
    {
     "data": {
      "image/png": "[encoded data removed]",
      "text/plain": [
       "<Figure size 432x288 with 1 Axes>"
      ]
     },
     "metadata": {
      "needs_background": "light"
     },
     "output_type": "display_data"
    }
   ],
   "source": [
    "plt.subplot(4,4,14)"
   ]
  },
  {
   "cell_type": "code",
   "execution_count": 4,
   "id": "37c76c0b",
   "metadata": {},
   "outputs": [
    {
     "data": {
      "text/plain": [
       "2931293148928"
      ]
     },
     "execution_count": 4,
     "metadata": {},
     "output_type": "execute_result"
    }
   ],
   "source": [
    "def say(message, times = 1):\n",
    "    print(message * times)\n",
    "\n",
    "\n",
    "id(say)"
   ]
  },
  {
   "cell_type": "code",
   "execution_count": 5,
   "id": "54a61974",
   "metadata": {},
   "outputs": [
    {
     "data": {
      "text/plain": [
       "9996"
      ]
     },
     "execution_count": 5,
     "metadata": {},
     "output_type": "execute_result"
    }
   ],
   "source": [
    "min = (lambda x, y: x if x < y else y)\n",
    "min(101*99, 102*98)"
   ]
  },
  {
   "cell_type": "code",
   "execution_count": 5,
   "id": "be4f36f4",
   "metadata": {},
   "outputs": [],
   "source": [
    "S = \"I love Python\""
   ]
  },
  {
   "cell_type": "code",
   "execution_count": 9,
   "id": "e6e62f48",
   "metadata": {},
   "outputs": [],
   "source": [
    "L = [1,2,3] * 2"
   ]
  },
  {
   "cell_type": "code",
   "execution_count": 12,
   "id": "3c445c1d",
   "metadata": {},
   "outputs": [
    {
     "name": "stdout",
     "output_type": "stream",
     "text": [
      "1\n",
      "2\n",
      "3\n"
     ]
    }
   ],
   "source": [
    "D = {1:['Raj', 22], 2:['Simran', 21], 3:['Rahul', 40]}\n",
    "for val in D:\n",
    "     print(val)"
   ]
  },
  {
   "cell_type": "code",
   "execution_count": 28,
   "id": "d7d76f24",
   "metadata": {},
   "outputs": [],
   "source": [
    "C = [2, 5, 9, 12, 13, 15, 16, 17, 18, 19]\n",
    "F = [2, 4, 5, 6, 7, 9, 13, 16]\n",
    "H = [1, 2, 5, 9, 10, 11, 12, 13, 15]\n",
    "A = [i for i in range(1,21)]\n",
    "\n",
    "CF = set(C).intersection(set(F))\n",
    "HF = set(H).intersection(set(F))\n",
    "CH = set(C).intersection(set(H))\n",
    "\n",
    "only_CF = CF.difference(HF).difference(CH)\n",
    "only_HF = HF.difference(CF).difference(CH)\n",
    "only_CH = CH.difference(HF).difference(CF)\n",
    "\n"
   ]
  },
  {
   "cell_type": "code",
   "execution_count": 29,
   "id": "544f60ea",
   "metadata": {},
   "outputs": [
    {
     "name": "stdout",
     "output_type": "stream",
     "text": [
      "[2, 5, 9, 13]\n",
      "[16]\n",
      "[12, 15, 16]\n",
      "[3, 8, 14, 20]\n"
     ]
    }
   ],
   "source": [
    "# Students who play all the three sports\n",
    "All = (set(C).union(set(F))).union(set(H))\n",
    "print(sorted(list((set(C).intersection(F)).intersection(H))))\n",
    "print(sorted(list(set(C).intersection(set(F)).difference(H))))\n",
    "print(sorted(list(only_CF.union(only_HF).union(only_CH))))\n",
    "print(sorted(list(set(A).difference(All))))"
   ]
  },
  {
   "cell_type": "code",
   "execution_count": 3,
   "id": "97972fa1",
   "metadata": {},
   "outputs": [
    {
     "data": {
      "text/plain": [
       "dtype('float64')"
      ]
     },
     "execution_count": 3,
     "metadata": {},
     "output_type": "execute_result"
    }
   ],
   "source": [
    "import numpy as np\n",
    "a = np.array( (1.0, 2, 3.5, 0.2, True) )\n",
    "a.dtype"
   ]
  },
  {
   "cell_type": "code",
   "execution_count": 4,
   "id": "5f2cf5ad",
   "metadata": {},
   "outputs": [],
   "source": [
    "array_1 = [1,2,3,5,4,6,7,8,5,3,2]"
   ]
  },
  {
   "cell_type": "code",
   "execution_count": 5,
   "id": "4c5c34d9",
   "metadata": {},
   "outputs": [
    {
     "name": "stdout",
     "output_type": "stream",
     "text": [
      "[1, 2, 3]\n"
     ]
    }
   ],
   "source": [
    "print(array_1[:3])"
   ]
  },
  {
   "cell_type": "code",
   "execution_count": 20,
   "id": "670a3969",
   "metadata": {},
   "outputs": [
    {
     "data": {
      "text/plain": [
       "array([9, 7, 9])"
      ]
     },
     "execution_count": 20,
     "metadata": {},
     "output_type": "execute_result"
    }
   ],
   "source": [
    "input_list = [ 1, 5, 9, 12, 15, 7, 12, 9 ]\n",
    "m = 6\n",
    "n = 12\n",
    "\n",
    "array_1 = np.array(input_list)\n",
    "array_2 = array_1[array_1 > m]\n",
    "final_array = array_2[array_2 < n]\n",
    "final_array"
   ]
  }
 ],
 "metadata": {
  "kernelspec": {
   "display_name": "Python 3",
   "language": "python",
   "name": "python3"
  },
  "language_info": {
   "codemirror_mode": {
    "name": "ipython",
    "version": 3
   },
   "file_extension": ".py",
   "mimetype": "text/x-python",
   "name": "python",
   "nbconvert_exporter": "python",
   "pygments_lexer": "ipython3",
   "version": "3.8.8"
  }
 },
 "nbformat": 4,
 "nbformat_minor": 5
}
