{
 "cells": [
  {
   "cell_type": "code",
   "execution_count": 3,
   "id": "defc5226",
   "metadata": {},
   "outputs": [],
   "source": [
    "121.92 + 133.21 + 141.34 + 126.23 + 175.74"
   ]
  },
  {
   "cell_type": "code",
   "execution_count": 5,
   "id": "678442ec",
   "metadata": {},
   "outputs": [],
   "source": [
    "import statistics as st\n",
    "sample = [121.92, 133.21, 141.34, 126.23, 175.74]"
   ]
  },
  {
   "cell_type": "code",
   "execution_count": 6,
   "id": "1a129816",
   "metadata": {},
   "outputs": [
    {
     "data": {
      "text/plain": [
       "21.454952109012037"
      ]
     },
     "execution_count": 6,
     "metadata": {},
     "output_type": "execute_result"
    }
   ],
   "source": [
    "st.stdev(sample)"
   ]
  },
  {
   "cell_type": "code",
   "execution_count": 7,
   "id": "f63137c8",
   "metadata": {},
   "outputs": [],
   "source": [
    "import pandas as pd"
   ]
  },
  {
   "cell_type": "code",
   "execution_count": 10,
   "id": "607b2415",
   "metadata": {},
   "outputs": [],
   "source": [
    "samples = pd.read_csv('UpGrad Samples.csv')"
   ]
  },
  {
   "cell_type": "code",
   "execution_count": 18,
   "id": "3809f175",
   "metadata": {},
   "outputs": [
    {
     "data": {
      "text/plain": [
       "2.3480000000000003"
      ]
     },
     "execution_count": 18,
     "metadata": {},
     "output_type": "execute_result"
    }
   ],
   "source": [
    "samples['Sample Mean'].mean()"
   ]
  },
  {
   "cell_type": "code",
   "execution_count": 25,
   "id": "961b43af",
   "metadata": {},
   "outputs": [
    {
     "name": "stdout",
     "output_type": "stream",
     "text": [
      "0.42484820818734786\n"
     ]
    }
   ],
   "source": [
    "from math import sqrt\n",
    "x = 0\n",
    "for mean in samples['Sample Mean']:\n",
    "    x = x + (mean - samples['Sample Mean'].mean())**2/len(samples['Sample Mean'])\n",
    "\n",
    "print(sqrt(x))"
   ]
  },
  {
   "cell_type": "code",
   "execution_count": 17,
   "id": "546221cc",
   "metadata": {},
   "outputs": [],
   "source": [
    "import numpy as np"
   ]
  },
  {
   "cell_type": "code",
   "execution_count": 20,
   "id": "d3bb6ab7",
   "metadata": {},
   "outputs": [],
   "source": [
    "variance = sum((x - samples['Sample Mean'].mean()) ** 2 for x in samples['Sample Mean']) / (len(samples['Sample Mean']) - 1)"
   ]
  },
  {
   "cell_type": "code",
   "execution_count": 21,
   "id": "779a84af",
   "metadata": {},
   "outputs": [],
   "source": [
    "std_deviation = np.sqrt(variance)"
   ]
  },
  {
   "cell_type": "code",
   "execution_count": 22,
   "id": "f5b13b5a",
   "metadata": {},
   "outputs": [
    {
     "data": {
      "text/plain": [
       "0.42698851497340273"
      ]
     },
     "execution_count": 22,
     "metadata": {},
     "output_type": "execute_result"
    }
   ],
   "source": [
    "std_deviation"
   ]
  },
  {
   "cell_type": "code",
   "execution_count": 28,
   "id": "be9d3778",
   "metadata": {},
   "outputs": [],
   "source": [
    "sample = [1]*42 + [0]*58"
   ]
  },
  {
   "cell_type": "code",
   "execution_count": 30,
   "id": "9f9918d2",
   "metadata": {},
   "outputs": [
    {
     "data": {
      "text/plain": [
       "0.49604496374885826"
      ]
     },
     "execution_count": 30,
     "metadata": {},
     "output_type": "execute_result"
    }
   ],
   "source": [
    "st.stdev(sample)"
   ]
  },
  {
   "cell_type": "code",
   "execution_count": 32,
   "id": "11e8b26f",
   "metadata": {},
   "outputs": [
    {
     "data": {
      "text/plain": [
       "48.0"
      ]
     },
     "execution_count": 32,
     "metadata": {},
     "output_type": "execute_result"
    }
   ],
   "source": [
    "(0.048 * 10) * 100"
   ]
  },
  {
   "cell_type": "code",
   "execution_count": 37,
   "id": "b8ac8542",
   "metadata": {},
   "outputs": [
    {
     "data": {
      "text/plain": [
       "0.5152"
      ]
     },
     "execution_count": 37,
     "metadata": {},
     "output_type": "execute_result"
    }
   ],
   "source": [
    "2.576 * 0.2"
   ]
  },
  {
   "cell_type": "code",
   "execution_count": 40,
   "id": "f3eba8a4",
   "metadata": {},
   "outputs": [
    {
     "data": {
      "text/plain": [
       "51.0152"
      ]
     },
     "execution_count": 40,
     "metadata": {},
     "output_type": "execute_result"
    }
   ],
   "source": [
    "50.5 + 0.5152"
   ]
  },
  {
   "cell_type": "code",
   "execution_count": 44,
   "id": "50273d18",
   "metadata": {},
   "outputs": [
    {
     "data": {
      "text/plain": [
       "16.45"
      ]
     },
     "execution_count": 44,
     "metadata": {},
     "output_type": "execute_result"
    }
   ],
   "source": [
    "(1.645 * 100) / 10"
   ]
  },
  {
   "cell_type": "code",
   "execution_count": 50,
   "id": "064da4cc",
   "metadata": {},
   "outputs": [
    {
     "data": {
      "text/plain": [
       "9.721599999999999"
      ]
     },
     "execution_count": 50,
     "metadata": {},
     "output_type": "execute_result"
    }
   ],
   "source": [
    "(1.96 * 49.6) / 10"
   ]
  },
  {
   "cell_type": "code",
   "execution_count": null,
   "id": "df8ab5cd",
   "metadata": {},
   "outputs": [],
   "source": []
  },
  {
   "cell_type": "code",
   "execution_count": 53,
   "id": "e2c0704b",
   "metadata": {},
   "outputs": [
    {
     "data": {
      "text/plain": [
       "48.28"
      ]
     },
     "execution_count": 53,
     "metadata": {},
     "output_type": "execute_result"
    }
   ],
   "source": [
    "58 - 9.72"
   ]
  },
  {
   "cell_type": "code",
   "execution_count": 54,
   "id": "b25d47ef",
   "metadata": {},
   "outputs": [
    {
     "data": {
      "text/plain": [
       "67.72"
      ]
     },
     "execution_count": 54,
     "metadata": {},
     "output_type": "execute_result"
    }
   ],
   "source": [
    "58 + 9.72"
   ]
  },
  {
   "cell_type": "code",
   "execution_count": 55,
   "id": "0e4f8b10",
   "metadata": {},
   "outputs": [],
   "source": [
    "rentals = pd.read_csv('PowaiRent.csv')"
   ]
  },
  {
   "cell_type": "code",
   "execution_count": 58,
   "id": "5bc6f678",
   "metadata": {},
   "outputs": [
    {
     "data": {
      "text/plain": [
       "count      200.000000\n",
       "mean     45571.000000\n",
       "std       7457.521851\n",
       "min      30100.000000\n",
       "25%      41250.000000\n",
       "50%      44950.000000\n",
       "75%      49825.000000\n",
       "max      59800.000000\n",
       "Name: Monthly Rent, dtype: float64"
      ]
     },
     "execution_count": 58,
     "metadata": {},
     "output_type": "execute_result"
    }
   ],
   "source": [
    "rentals['Monthly Rent'].describe()"
   ]
  },
  {
   "cell_type": "code",
   "execution_count": 63,
   "id": "62a19287",
   "metadata": {},
   "outputs": [
    {
     "data": {
      "text/plain": [
       "867.4517573862428"
      ]
     },
     "execution_count": 63,
     "metadata": {},
     "output_type": "execute_result"
    }
   ],
   "source": [
    "from math import sqrt\n",
    "(1.645 * 7457.52) / sqrt(len(rentals['Monthly Rent']))"
   ]
  },
  {
   "cell_type": "code",
   "execution_count": 64,
   "id": "21343d1e",
   "metadata": {},
   "outputs": [
    {
     "data": {
      "text/plain": [
       "44703.549"
      ]
     },
     "execution_count": 64,
     "metadata": {},
     "output_type": "execute_result"
    }
   ],
   "source": [
    "45571 - 867.451"
   ]
  },
  {
   "cell_type": "code",
   "execution_count": 65,
   "id": "b81908a8",
   "metadata": {},
   "outputs": [
    {
     "data": {
      "text/plain": [
       "46438.451"
      ]
     },
     "execution_count": 65,
     "metadata": {},
     "output_type": "execute_result"
    }
   ],
   "source": [
    "45571 + 867.451"
   ]
  },
  {
   "cell_type": "code",
   "execution_count": 70,
   "id": "8d0394e6",
   "metadata": {},
   "outputs": [
    {
     "data": {
      "text/plain": [
       "1033.4874723923845"
      ]
     },
     "execution_count": 70,
     "metadata": {},
     "output_type": "execute_result"
    }
   ],
   "source": [
    "(1.96 * 7457) / sqrt(len(rentals['Monthly Rent']))"
   ]
  },
  {
   "cell_type": "code",
   "execution_count": 71,
   "id": "765c4fa0",
   "metadata": {},
   "outputs": [
    {
     "data": {
      "text/plain": [
       "44537.52"
      ]
     },
     "execution_count": 71,
     "metadata": {},
     "output_type": "execute_result"
    }
   ],
   "source": [
    "45571 - 1033.48"
   ]
  },
  {
   "cell_type": "code",
   "execution_count": 72,
   "id": "ae765c74",
   "metadata": {},
   "outputs": [
    {
     "data": {
      "text/plain": [
       "46604.48"
      ]
     },
     "execution_count": 72,
     "metadata": {},
     "output_type": "execute_result"
    }
   ],
   "source": [
    "45571 + 1033.48"
   ]
  }
 ],
 "metadata": {
  "kernelspec": {
   "display_name": "Python 3",
   "language": "python",
   "name": "python3"
  },
  "language_info": {
   "codemirror_mode": {
    "name": "ipython",
    "version": 3
   },
   "file_extension": ".py",
   "mimetype": "text/x-python",
   "name": "python",
   "nbconvert_exporter": "python",
   "pygments_lexer": "ipython3",
   "version": "3.8.8"
  }
 },
 "nbformat": 4,
 "nbformat_minor": 5
}
