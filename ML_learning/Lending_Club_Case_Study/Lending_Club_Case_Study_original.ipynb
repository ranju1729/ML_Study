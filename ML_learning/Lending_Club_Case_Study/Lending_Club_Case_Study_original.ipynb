{
 "cells": [
  {
   "cell_type": "code",
   "execution_count": 1,
   "id": "b72aec81",
   "metadata": {},
   "outputs": [],
   "source": [
    "# import required libraries\n",
    "import pandas as pd\n",
    "import numpy as np\n",
    "import warnings\n",
    "import matplotlib.pyplot as plt\n",
    "import seaborn as sns\n",
    "warnings.filterwarnings('ignore')"
   ]
  },
  {
   "cell_type": "code",
   "execution_count": 2,
   "id": "c1ed0dae",
   "metadata": {},
   "outputs": [],
   "source": [
    "# load the csv into a dataframe\n",
    "lending_df = pd.read_csv('loan.csv')"
   ]
  },
  {
   "cell_type": "code",
   "execution_count": 3,
   "id": "a2723bb2",
   "metadata": {},
   "outputs": [
    {
     "data": {
      "text/plain": [
       "(39717, 111)"
      ]
     },
     "execution_count": 3,
     "metadata": {},
     "output_type": "execute_result"
    }
   ],
   "source": [
    "# check the shape of the dataframe\n",
    "lending_df.shape"
   ]
  },
  {
   "cell_type": "code",
   "execution_count": 4,
   "id": "e91df822",
   "metadata": {},
   "outputs": [
    {
     "name": "stdout",
     "output_type": "stream",
     "text": [
      "<class 'pandas.core.frame.DataFrame'>\n",
      "RangeIndex: 39717 entries, 0 to 39716\n",
      "Columns: 111 entries, id to total_il_high_credit_limit\n",
      "dtypes: float64(74), int64(13), object(24)\n",
      "memory usage: 33.6+ MB\n"
     ]
    }
   ],
   "source": [
    "# display information about the dataframe\n",
    "lending_df.info()"
   ]
  },
  {
   "cell_type": "code",
   "execution_count": 5,
   "id": "72a429bb",
   "metadata": {},
   "outputs": [
    {
     "data": {
      "text/plain": [
       "[('emp_title', 2459),\n",
       " ('emp_length', 1075),\n",
       " ('desc', 12940),\n",
       " ('title', 11),\n",
       " ('mths_since_last_delinq', 25682),\n",
       " ('mths_since_last_record', 36931),\n",
       " ('revol_util', 50),\n",
       " ('last_pymnt_d', 71),\n",
       " ('next_pymnt_d', 38577),\n",
       " ('last_credit_pull_d', 2),\n",
       " ('collections_12_mths_ex_med', 56),\n",
       " ('mths_since_last_major_derog', 39717),\n",
       " ('annual_inc_joint', 39717),\n",
       " ('dti_joint', 39717),\n",
       " ('verification_status_joint', 39717),\n",
       " ('tot_coll_amt', 39717),\n",
       " ('tot_cur_bal', 39717),\n",
       " ('open_acc_6m', 39717),\n",
       " ('open_il_6m', 39717),\n",
       " ('open_il_12m', 39717),\n",
       " ('open_il_24m', 39717),\n",
       " ('mths_since_rcnt_il', 39717),\n",
       " ('total_bal_il', 39717),\n",
       " ('il_util', 39717),\n",
       " ('open_rv_12m', 39717),\n",
       " ('open_rv_24m', 39717),\n",
       " ('max_bal_bc', 39717),\n",
       " ('all_util', 39717),\n",
       " ('total_rev_hi_lim', 39717),\n",
       " ('inq_fi', 39717),\n",
       " ('total_cu_tl', 39717),\n",
       " ('inq_last_12m', 39717),\n",
       " ('acc_open_past_24mths', 39717),\n",
       " ('avg_cur_bal', 39717),\n",
       " ('bc_open_to_buy', 39717),\n",
       " ('bc_util', 39717),\n",
       " ('chargeoff_within_12_mths', 56),\n",
       " ('mo_sin_old_il_acct', 39717),\n",
       " ('mo_sin_old_rev_tl_op', 39717),\n",
       " ('mo_sin_rcnt_rev_tl_op', 39717),\n",
       " ('mo_sin_rcnt_tl', 39717),\n",
       " ('mort_acc', 39717),\n",
       " ('mths_since_recent_bc', 39717),\n",
       " ('mths_since_recent_bc_dlq', 39717),\n",
       " ('mths_since_recent_inq', 39717),\n",
       " ('mths_since_recent_revol_delinq', 39717),\n",
       " ('num_accts_ever_120_pd', 39717),\n",
       " ('num_actv_bc_tl', 39717),\n",
       " ('num_actv_rev_tl', 39717),\n",
       " ('num_bc_sats', 39717),\n",
       " ('num_bc_tl', 39717),\n",
       " ('num_il_tl', 39717),\n",
       " ('num_op_rev_tl', 39717),\n",
       " ('num_rev_accts', 39717),\n",
       " ('num_rev_tl_bal_gt_0', 39717),\n",
       " ('num_sats', 39717),\n",
       " ('num_tl_120dpd_2m', 39717),\n",
       " ('num_tl_30dpd', 39717),\n",
       " ('num_tl_90g_dpd_24m', 39717),\n",
       " ('num_tl_op_past_12m', 39717),\n",
       " ('pct_tl_nvr_dlq', 39717),\n",
       " ('percent_bc_gt_75', 39717),\n",
       " ('pub_rec_bankruptcies', 697),\n",
       " ('tax_liens', 39),\n",
       " ('tot_hi_cred_lim', 39717),\n",
       " ('total_bal_ex_mort', 39717),\n",
       " ('total_bc_limit', 39717),\n",
       " ('total_il_high_credit_limit', 39717)]"
      ]
     },
     "execution_count": 5,
     "metadata": {},
     "output_type": "execute_result"
    }
   ],
   "source": [
    "# let's see which columns have null values and how much\n",
    "null_columns = lending_df.isnull().sum()[lending_df.isnull().sum() > 0]\n",
    "list(zip(null_columns.index, null_columns))"
   ]
  },
  {
   "cell_type": "code",
   "execution_count": 6,
   "id": "c9f324b3",
   "metadata": {},
   "outputs": [],
   "source": [
    "# remove all columns that doesn't have any data at all\n",
    "lending_df = lending_df.dropna(axis=1, how='all')"
   ]
  },
  {
   "cell_type": "code",
   "execution_count": 7,
   "id": "e375893c",
   "metadata": {},
   "outputs": [
    {
     "data": {
      "text/plain": [
       "[('emp_title', 2459),\n",
       " ('emp_length', 1075),\n",
       " ('desc', 12940),\n",
       " ('title', 11),\n",
       " ('mths_since_last_delinq', 25682),\n",
       " ('mths_since_last_record', 36931),\n",
       " ('revol_util', 50),\n",
       " ('last_pymnt_d', 71),\n",
       " ('next_pymnt_d', 38577),\n",
       " ('last_credit_pull_d', 2),\n",
       " ('collections_12_mths_ex_med', 56),\n",
       " ('chargeoff_within_12_mths', 56),\n",
       " ('pub_rec_bankruptcies', 697),\n",
       " ('tax_liens', 39)]"
      ]
     },
     "execution_count": 7,
     "metadata": {},
     "output_type": "execute_result"
    }
   ],
   "source": [
    "# check the dataframe again for null values\n",
    "null_columns = lending_df.isnull().sum()[lending_df.isnull().sum() > 0]\n",
    "list(zip(null_columns.index, null_columns))"
   ]
  },
  {
   "cell_type": "code",
   "execution_count": 8,
   "id": "bdbdb934",
   "metadata": {},
   "outputs": [
    {
     "data": {
      "text/plain": [
       "(39717, 53)"
      ]
     },
     "execution_count": 8,
     "metadata": {},
     "output_type": "execute_result"
    }
   ],
   "source": [
    "# drop few other columns that have significant missing values or are irrelevant\n",
    "columns_to_drop = ['next_pymnt_d', 'mths_since_last_record', 'mths_since_last_delinq', 'desc']\n",
    "lending_df.drop(columns = columns_to_drop, inplace=True)\n",
    "lending_df.shape"
   ]
  },
  {
   "cell_type": "code",
   "execution_count": 9,
   "id": "ac52a8d1",
   "metadata": {},
   "outputs": [
    {
     "data": {
      "text/plain": [
       "[('emp_title', 2459),\n",
       " ('emp_length', 1075),\n",
       " ('title', 11),\n",
       " ('revol_util', 50),\n",
       " ('last_pymnt_d', 71),\n",
       " ('last_credit_pull_d', 2),\n",
       " ('collections_12_mths_ex_med', 56),\n",
       " ('chargeoff_within_12_mths', 56),\n",
       " ('pub_rec_bankruptcies', 697),\n",
       " ('tax_liens', 39)]"
      ]
     },
     "execution_count": 9,
     "metadata": {},
     "output_type": "execute_result"
    }
   ],
   "source": [
    "# check the dataframe again for null values\n",
    "null_columns = lending_df.isnull().sum()[lending_df.isnull().sum() > 0]\n",
    "list(zip(null_columns.index, null_columns))"
   ]
  },
  {
   "cell_type": "code",
   "execution_count": 10,
   "id": "c92e8fc9",
   "metadata": {},
   "outputs": [
    {
     "name": "stdout",
     "output_type": "stream",
     "text": [
      "28821\n",
      "US Army                                    134\n",
      "Bank of America                            109\n",
      "IBM                                         66\n",
      "AT&T                                        59\n",
      "Kaiser Permanente                           56\n",
      "                                          ... \n",
      "KVVU                                         1\n",
      "C-P                                          1\n",
      "A Work of Faith Community Outreach Corp      1\n",
      "FOXHALL INTERNISTS                           1\n",
      "Industrial Resin Recycling                   1\n",
      "Name: emp_title, Length: 28820, dtype: int64\n"
     ]
    }
   ],
   "source": [
    "# inspect employee title\n",
    "# number of employers / employee title\n",
    "print(len(lending_df['emp_title'].unique()))\n",
    "\n",
    "# count of employee titles\n",
    "print(lending_df['emp_title'].value_counts())"
   ]
  },
  {
   "cell_type": "code",
   "execution_count": 11,
   "id": "65b29f42",
   "metadata": {},
   "outputs": [],
   "source": [
    "# remove employee title column as it has lot of missing values and doesn't think it would impact the analysis as much considering there are\n",
    "# 28K unique employee titles and the individual counts are not that high\n",
    "lending_df.drop(columns=['emp_title'], inplace=True)"
   ]
  },
  {
   "cell_type": "code",
   "execution_count": 12,
   "id": "d4940c8c",
   "metadata": {},
   "outputs": [
    {
     "data": {
      "text/plain": [
       "10+ years    8879\n",
       "< 1 year     4583\n",
       "2 years      4388\n",
       "3 years      4095\n",
       "4 years      3436\n",
       "5 years      3282\n",
       "1 year       3240\n",
       "6 years      2229\n",
       "7 years      1773\n",
       "8 years      1479\n",
       "9 years      1258\n",
       "Name: emp_length, dtype: int64"
      ]
     },
     "execution_count": 12,
     "metadata": {},
     "output_type": "execute_result"
    }
   ],
   "source": [
    "# we have emp_length with 1000 plus missing values. First clean employee length before taking a call on what to do\n",
    "lending_df['emp_length'].value_counts()"
   ]
  },
  {
   "cell_type": "code",
   "execution_count": 13,
   "id": "15f107ac",
   "metadata": {},
   "outputs": [],
   "source": [
    "# Just get the numericals from the emp_length data (less than 1 is considered one and above 10 is considered 10)\n",
    "lending_df['emp_length'] = lending_df['emp_length'].apply(lambda x: str(x).replace('years', '').replace('year', '').replace('<','').replace('+',''))"
   ]
  },
  {
   "cell_type": "code",
   "execution_count": 14,
   "id": "138bc52e",
   "metadata": {},
   "outputs": [
    {
     "data": {
      "text/plain": [
       "10    8879\n",
       "1     7823\n",
       "2     4388\n",
       "3     4095\n",
       "4     3436\n",
       "5     3282\n",
       "6     2229\n",
       "7     1773\n",
       "8     1479\n",
       "9     1258\n",
       "Name: emp_length, dtype: int64"
      ]
     },
     "execution_count": 14,
     "metadata": {},
     "output_type": "execute_result"
    }
   ],
   "source": [
    "# analyse the values and it's distribution\n",
    "lending_df['emp_length'][lending_df['emp_length'] != 'nan'].apply(lambda x: int(x)).value_counts()"
   ]
  },
  {
   "cell_type": "code",
   "execution_count": 15,
   "id": "4f60bcb3",
   "metadata": {},
   "outputs": [],
   "source": [
    "# Try to impute values for employee length based on the distribution so that it doesn't skew the analysis\n",
    "# set 'nan' string to actual nulls\n",
    "lending_df['emp_length'] = lending_df['emp_length'].replace('nan', np.nan)\n",
    "\n",
    "# get distribution of non null values\n",
    "dbn = lending_df['emp_length'].dropna().apply(lambda x: int(x)).value_counts(normalize=True)\n",
    "\n",
    "#missing values\n",
    "mval = lending_df['emp_length'].isnull()\n",
    "num_mval = mval.sum()\n",
    "\n",
    "# values to impute\n",
    "impute_val = np.random.choice(dbn.index, num_mval, p=dbn.values)\n",
    "\n",
    "# finally fill nan with\n",
    "lending_df.loc[mval, 'emp_length'] = impute_val"
   ]
  },
  {
   "cell_type": "code",
   "execution_count": 16,
   "id": "df5fde59",
   "metadata": {},
   "outputs": [],
   "source": [
    "# convert everything to integer\n",
    "lending_df['emp_length'] = lending_df['emp_length'].apply(lambda x: int(x))"
   ]
  },
  {
   "cell_type": "code",
   "execution_count": 17,
   "id": "ce9ced39",
   "metadata": {},
   "outputs": [
    {
     "data": {
      "text/plain": [
       "10    9124\n",
       "1     8053\n",
       "2     4498\n",
       "3     4197\n",
       "4     3530\n",
       "5     3383\n",
       "6     2304\n",
       "7     1818\n",
       "8     1519\n",
       "9     1291\n",
       "Name: emp_length, dtype: int64"
      ]
     },
     "execution_count": 17,
     "metadata": {},
     "output_type": "execute_result"
    }
   ],
   "source": [
    "# check again\n",
    "lending_df['emp_length'].value_counts()"
   ]
  },
  {
   "cell_type": "code",
   "execution_count": 18,
   "id": "019b302c",
   "metadata": {},
   "outputs": [
    {
     "data": {
      "text/plain": [
       "[('title', 11),\n",
       " ('revol_util', 50),\n",
       " ('last_pymnt_d', 71),\n",
       " ('last_credit_pull_d', 2),\n",
       " ('collections_12_mths_ex_med', 56),\n",
       " ('chargeoff_within_12_mths', 56),\n",
       " ('pub_rec_bankruptcies', 697),\n",
       " ('tax_liens', 39)]"
      ]
     },
     "execution_count": 18,
     "metadata": {},
     "output_type": "execute_result"
    }
   ],
   "source": [
    "# check dataframe again for null values\n",
    "null_columns = lending_df.isnull().sum()[lending_df.isnull().sum() > 0]\n",
    "list(zip(null_columns.index, null_columns))"
   ]
  },
  {
   "cell_type": "code",
   "execution_count": 19,
   "id": "8d74e419",
   "metadata": {},
   "outputs": [],
   "source": [
    "# 'pub_rec_bankruptcies' is a significant field in the analysis as this shows how many times a person filed for bankruptcies, hence removing records without this value\n",
    "lending_df = lending_df.dropna(subset=['pub_rec_bankruptcies'])"
   ]
  },
  {
   "cell_type": "code",
   "execution_count": 20,
   "id": "8cda3aff",
   "metadata": {},
   "outputs": [
    {
     "data": {
      "text/plain": [
       "[('title', 11),\n",
       " ('revol_util', 50),\n",
       " ('last_pymnt_d', 71),\n",
       " ('last_credit_pull_d', 1),\n",
       " ('collections_12_mths_ex_med', 2),\n",
       " ('chargeoff_within_12_mths', 2)]"
      ]
     },
     "execution_count": 20,
     "metadata": {},
     "output_type": "execute_result"
    }
   ],
   "source": [
    "# check dataframe again for null values\n",
    "null_columns = lending_df.isnull().sum()[lending_df.isnull().sum() > 0]\n",
    "list(zip(null_columns.index, null_columns))"
   ]
  },
  {
   "cell_type": "code",
   "execution_count": 21,
   "id": "f16bbd65",
   "metadata": {},
   "outputs": [],
   "source": [
    "\"\"\"\n",
    " 'revol_util or revolving line utilization rate'\n",
    " 'collections in the last 12 months'\n",
    " 'chargeoff within last 12 months\n",
    " \n",
    " are all important fileds removing records with nulls in them\n",
    "\"\"\"\n",
    "lending_df = lending_df.dropna(subset=['revol_util','chargeoff_within_12_mths','collections_12_mths_ex_med' ])"
   ]
  },
  {
   "cell_type": "code",
   "execution_count": 22,
   "id": "3c2ed9d0",
   "metadata": {},
   "outputs": [
    {
     "data": {
      "text/plain": [
       "[('title', 11), ('last_pymnt_d', 67), ('last_credit_pull_d', 1)]"
      ]
     },
     "execution_count": 22,
     "metadata": {},
     "output_type": "execute_result"
    }
   ],
   "source": [
    "# check dataframe again for null values\n",
    "null_columns = lending_df.isnull().sum()[lending_df.isnull().sum() > 0]\n",
    "list(zip(null_columns.index, null_columns))"
   ]
  },
  {
   "cell_type": "code",
   "execution_count": 23,
   "id": "f2d5ef0e",
   "metadata": {},
   "outputs": [],
   "source": [
    "# will keep the rest of the data as is"
   ]
  },
  {
   "cell_type": "code",
   "execution_count": 24,
   "id": "0fc24088",
   "metadata": {},
   "outputs": [
    {
     "data": {
      "text/plain": [
       "10000    2761\n",
       "12000    2299\n",
       "5000     2001\n",
       "6000     1880\n",
       "15000    1858\n",
       "         ... \n",
       "1425        1\n",
       "29375       1\n",
       "22650       1\n",
       "26300       1\n",
       "24700       1\n",
       "Name: loan_amnt, Length: 875, dtype: int64"
      ]
     },
     "execution_count": 24,
     "metadata": {},
     "output_type": "execute_result"
    }
   ],
   "source": [
    "# univariate analysis\n",
    "lending_df['loan_amnt'].value_counts()"
   ]
  },
  {
   "cell_type": "code",
   "execution_count": 25,
   "id": "b8b6ce61",
   "metadata": {},
   "outputs": [
    {
     "data": {
      "image/png": "[encoded data removed]",
      "text/plain": [
       "<Figure size 432x288 with 1 Axes>"
      ]
     },
     "metadata": {
      "needs_background": "light"
     },
     "output_type": "display_data"
    }
   ],
   "source": [
    "# looking at loan amount\n",
    "plt.hist(lending_df['loan_amnt'], bins=100, edgecolor='Orange',color='cyan')\n",
    "plt.title('Loan amount and its frequency')\n",
    "plt.xlabel('Loan amount')\n",
    "plt.ylabel('Frequency')\n",
    "plt.show()"
   ]
  },
  {
   "cell_type": "markdown",
   "id": "68847824",
   "metadata": {},
   "source": [
    "### Insights\n",
    "\n",
    "1) People seem to apply for loan most frequenctly at increments of 5000  \n",
    "2) Most commonly people apply for 10000 USD  \n",
    "3) The amounts in between (that is not an increment of 5k) seem to be very less frequent and becomes rare as the amount increases (see there are close to 400 applications for a loan amount of 30,000 whereas virtually nothing till 35000 which has more than 500 applicants)"
   ]
  },
  {
   "cell_type": "code",
   "execution_count": 26,
   "id": "c5e3328c",
   "metadata": {},
   "outputs": [
    {
     "data": {
      "image/png": "[encoded data removed]",
      "text/plain": [
       "<Figure size 432x288 with 1 Axes>"
      ]
     },
     "metadata": {
      "needs_background": "light"
     },
     "output_type": "display_data"
    }
   ],
   "source": [
    "# looking at Grade\n",
    "sns.histplot(lending_df['grade'], bins = 20, edgecolor='Orange',color='cyan')\n",
    "plt.title('Grade and its frequency')\n",
    "plt.xlabel('Grade')\n",
    "plt.ylabel('Frequency')\n",
    "plt.show()"
   ]
  },
  {
   "cell_type": "markdown",
   "id": "67236226",
   "metadata": {},
   "source": [
    "### Insights\n",
    "Loan grading is a classification system that involves assigning a quality score to a loan based on a borrower's credit history, quality of the collateral, and the likelihood of repayment of the principal and interest.\n",
    "\n",
    "1) There are 7 grades for loans\n",
    "2) Grade and A, B and C are more common with being the most common.  \n",
    "3) Very few loans are in D,E,F and G grades and declining numbers from D to G with G being the lowest"
   ]
  },
  {
   "cell_type": "code",
   "execution_count": 27,
   "id": "2b6ec110",
   "metadata": {},
   "outputs": [
    {
     "data": {
      "image/png": "[encoded data removed]",
      "text/plain": [
       "<Figure size 432x288 with 1 Axes>"
      ]
     },
     "metadata": {
      "needs_background": "light"
     },
     "output_type": "display_data"
    }
   ],
   "source": [
    "# purpose\n",
    "sns.histplot(lending_df['purpose'], bins = 20, edgecolor='Orange',color='cyan')\n",
    "plt.title('Purpose and its frequency')\n",
    "plt.xlabel('\\n\\nPurpose')\n",
    "plt.xticks(rotation=90)\n",
    "plt.ylabel('Frequency')\n",
    "plt.show()"
   ]
  },
  {
   "cell_type": "markdown",
   "id": "3009c9b7",
   "metadata": {},
   "source": [
    "### Insights\n",
    "\n",
    "1) Most loans are applied for debt_consolidation, more than 45 percent of total loans. Debt consolidation means that a person tries to consolidate all his debts into a single debt.  \n",
    "2) The second most common reason for loan application is to pay off credit card bills.  \n",
    "3) Very few people take loans for house, car or educational purposes which is an interesting insight since this is what we think of common rasons for applying loan."
   ]
  },
  {
   "cell_type": "code",
   "execution_count": 28,
   "id": "100513c3",
   "metadata": {},
   "outputs": [
    {
     "data": {
      "image/png": "[encoded data removed]",
      "text/plain": [
       "<Figure size 432x288 with 1 Axes>"
      ]
     },
     "metadata": {
      "needs_background": "light"
     },
     "output_type": "display_data"
    }
   ],
   "source": [
    "# employee tenure\n",
    "sns.histplot(lending_df['emp_length'], edgecolor='Orange',color='cyan')\n",
    "plt.title('employee tenure and its frequency')\n",
    "plt.xlabel('\\n\\nPurpose')\n",
    "plt.xticks(rotation=90)\n",
    "plt.ylabel('Frequency')\n",
    "plt.show()"
   ]
  },
  {
   "cell_type": "markdown",
   "id": "b864203c",
   "metadata": {},
   "source": [
    "### Insights\n",
    "1) Employees with 10 plus years of tenure or within their 1st year tend to apply for loans the most  \n",
    "2) Employees with tenure between 2 and 9 years have a declining trend in application of loanfrom 2 to 9  \n",
    "3) The increase in loan application at 1st year or 10 plus years may indicate milestone life events for which the loan was applied."
   ]
  },
  {
   "cell_type": "code",
   "execution_count": 29,
   "id": "989bf18f",
   "metadata": {},
   "outputs": [],
   "source": [
    "# starting multivariate analysis focusing on how specific data points impact loan default"
   ]
  },
  {
   "cell_type": "code",
   "execution_count": 30,
   "id": "6095b68d",
   "metadata": {},
   "outputs": [
    {
     "data": {
      "image/png": "[encoded data removed]",
      "text/plain": [
       "<Figure size 864x432 with 1 Axes>"
      ]
     },
     "metadata": {
      "needs_background": "light"
     },
     "output_type": "display_data"
    }
   ],
   "source": [
    "# based on grade and subgrade\n",
    "grade_df = lending_df[['grade', 'sub_grade', 'loan_status']]\n",
    "\n",
    "# get charge_off rates\n",
    "charge_off_rt = grade_df.groupby(['grade', 'sub_grade']).apply(lambda x:(x['loan_status'] == 'Charged Off').mean()).reset_index(name='charge off rate')\n",
    "\n",
    "# plot\n",
    "plt.figure(figsize=(12,6))\n",
    "sns.barplot(charge_off_rt.index, charge_off_rt['charge off rate'])\n",
    "plt.xlabel('\\nGrade & Sub Grade')\n",
    "plt.ylabel('Charge off rate')\n",
    "plt.title('Charge off rates by Grade & Sub Grade')\n",
    "plt.xticks(charge_off_rt.index, charge_off_rt['grade'] + '--' + charge_off_rt['sub_grade'], rotation=90)\n",
    "plt.tight_layout()\n",
    "plt.show()"
   ]
  },
  {
   "cell_type": "markdown",
   "id": "05b54539",
   "metadata": {},
   "source": [
    "### Insights - Loan default rates by Grade and Sub Grade\n",
    "1) Loans are graded from A to G based on risk analysis, A being the lowest risk and G being the highest  \n",
    "2) Within the grades there are sub grades again from 1 to 5. For example A1 - A5 where A1 is with lowest risk whereas A5 has the highest  \n",
    "3) As expected from the data we have, Loans graded A and subgrade A1 has the lowest default / charge off rates  \n",
    "4) The tendency in general is that the lower the grade-subgrade combination the higher the default rate. For example A-A1 (higher grade) has lower default rate than B-B1(lower grade)  \n",
    "5) However the highest default rate is among F-F5 close to 45 percent default rate which is very high."
   ]
  },
  {
   "cell_type": "code",
   "execution_count": 31,
   "id": "9905627b",
   "metadata": {},
   "outputs": [
    {
     "data": {
      "image/png": "[encoded data removed]",
      "text/plain": [
       "<Figure size 864x432 with 1 Axes>"
      ]
     },
     "metadata": {
      "needs_background": "light"
     },
     "output_type": "display_data"
    }
   ],
   "source": [
    "# impact of verification status\n",
    "verification_df = lending_df[['verification_status', 'loan_status']]\n",
    "\n",
    "# get default rate based on verification status\n",
    "charge_off_rt = verification_df.groupby('verification_status').apply(lambda x:(x['loan_status'] == 'Charged Off').mean()).reset_index(name='charge off rate')\n",
    "\n",
    "# plot\n",
    "plt.figure(figsize=(12,6))\n",
    "sns.barplot(charge_off_rt.index, charge_off_rt['charge off rate'])\n",
    "plt.xlabel('\\nVerification Status')\n",
    "plt.ylabel('Charge off rate')\n",
    "plt.title('Charge off rates by Verification status')\n",
    "plt.xticks(charge_off_rt.index, charge_off_rt['verification_status'], rotation=90)\n",
    "plt.tight_layout()\n",
    "plt.show()"
   ]
  },
  {
   "cell_type": "markdown",
   "id": "50167f7b",
   "metadata": {},
   "source": [
    "### Insights - Loan default rates by verification status\n",
    "1) Verification status tells us if the income of the borrower is verified either by lending club or if the income source was verified or not verified at all.  \n",
    "\n",
    "2) As expected the default rate is lower when the income is verified by LC or if the income source was verified. Highest default rate is when the income of the borrower was not verified.  \n",
    "\n",
    "3) There is however not a significant impact on the default rate as evident from the visualization. The overall data in the dataset also has loan default rate of 14 percent which is about similar for all 3 verification status indicating that more or less there is no impact on default rate from the verification status."
   ]
  },
  {
   "cell_type": "code",
   "execution_count": 32,
   "id": "c98adda1",
   "metadata": {},
   "outputs": [
    {
     "data": {
      "image/png": "[encoded data removed]",
      "text/plain": [
       "<Figure size 864x432 with 1 Axes>"
      ]
     },
     "metadata": {
      "needs_background": "light"
     },
     "output_type": "display_data"
    }
   ],
   "source": [
    "# impact of loan term\n",
    "term_df = lending_df[['term', 'loan_status']]\n",
    "\n",
    "# get default rate based on loan term\n",
    "charge_off_rt = term_df.groupby('term').apply(lambda x:(x['loan_status'] == 'Charged Off').mean()).reset_index(name='charge off rate')\n",
    "\n",
    "# plot\n",
    "plt.figure(figsize=(12,6))\n",
    "sns.barplot(charge_off_rt.index, charge_off_rt['charge off rate'])\n",
    "plt.xlabel('\\nterm')\n",
    "plt.ylabel('Charge off rate')\n",
    "plt.title('Charge off rates by loan term')\n",
    "plt.xticks(charge_off_rt.index, charge_off_rt['term'], rotation=90)\n",
    "plt.tight_layout()\n",
    "plt.show()\n"
   ]
  },
  {
   "cell_type": "markdown",
   "id": "730f768b",
   "metadata": {},
   "source": [
    "### Insights - Loan default rates by loan term\n",
    "1) There are only two loan terms in the dataset, 36 months and 60 months.  \n",
    "2) Loans with a 60 month term has double default rate than that of a 36 month loan term. This could be due to the amount borrowed being high. The impact of combination of term and amount can be checked further. For this we may have to create a loan bucket to limit the number of loan amounts."
   ]
  },
  {
   "cell_type": "code",
   "execution_count": 43,
   "id": "fc7a8bdd",
   "metadata": {},
   "outputs": [
    {
     "data": {
      "image/png": "[encoded data removed]",
      "text/plain": [
       "<Figure size 864x432 with 1 Axes>"
      ]
     },
     "metadata": {
      "needs_background": "light"
     },
     "output_type": "display_data"
    }
   ],
   "source": [
    "# impact of loan term\n",
    "term_df = lending_df[['term', 'loan_status']]\n",
    "\n",
    "# create a derived field with laon_amnt buckets\n",
    "term_df['loan_bckt'] = lending_df['loan_amnt'].apply(lambda x: 'A: 0-5k' if x <= 5000 else\n",
    "                                                 'B: 5-10k' if x > 5000 and x <= 10000 else\n",
    "                                                 'C: 10-15k' if x > 10000 and x <= 15000 else \n",
    "                                                 'D: 15-20k' if x > 15000 and x <= 20000 else\n",
    "                                                 'E: 20-25k' if x > 20000 and x <= 25000 else\n",
    "                                                 'F: 25-30K' if x > 25000 and x <= 30000 else\n",
    "                                                 'G: 30-35k')\n",
    "\n",
    "# get default rate based on loan term and lon amount\n",
    "charge_off_rt = term_df.groupby(['term', 'loan_bckt']).apply(lambda x:(x['loan_status'] == 'Charged Off').mean()).reset_index(name='charge off rate')\n",
    "\n",
    "# plot\n",
    "plt.figure(figsize=(12,6))\n",
    "sns.barplot(charge_off_rt.index, charge_off_rt['charge off rate'])\n",
    "plt.xlabel('\\nterm and loan bucket')\n",
    "plt.ylabel('Charge off rate')\n",
    "plt.title('Charge off rates by loan term and bucket')\n",
    "plt.xticks(charge_off_rt.index, charge_off_rt['term'] + '--' + charge_off_rt['loan_bckt'] , rotation=90)\n",
    "plt.tight_layout()\n",
    "plt.show()\n"
   ]
  },
  {
   "cell_type": "markdown",
   "id": "7c6f050b",
   "metadata": {},
   "source": [
    "### Insights - Loan default rates by loan term and amount\n",
    "1) There are only two loan terms in the dataset, 36 months and 60 months.    \n",
    "2) if we split the loan amounts into 7 buckets of intervals 5k each and use that along with the loan term to see the impact on the loan repayment, it gives better insights.  \n",
    "3) In general if the loan-term is higher the default rates are also higher. \n",
    "3) Interestingly the amount of loan taken doesn't seem to have a huge impact on loan repayment as much as the loan term. For example a loan amount of 30K and above has much higher default rate for loan term 60 months than loan term 36 months.  \n",
    "4) A lower loan term might indicate the confidence of the borrower in repaying the loan and hence the lower default rate.  \n",
    "5) The dafult rate doesn't vary significantly based on amount within a specific loan term.  \n",
    "6) Interestingly a higher amount of 30k plus with a loan term of 36 months has lower default rate than a 5k loan amount with 36 months term. However a higher loan amount within a 60 month term has higher default rate than other buckets in the 60 months term.  "
   ]
  },
  {
   "cell_type": "code",
   "execution_count": 44,
   "id": "ef056014",
   "metadata": {},
   "outputs": [
    {
     "data": {
      "image/png": "[encoded data removed]",
      "text/plain": [
       "<Figure size 864x432 with 1 Axes>"
      ]
     },
     "metadata": {
      "needs_background": "light"
     },
     "output_type": "display_data"
    }
   ],
   "source": [
    "# impact of employee length', 'loan_status'\n",
    "emp_len_df = lending_df[['emp_length', 'loan_status']]\n",
    "\n",
    "# get default rate based on employee length\n",
    "charge_off_rt = emp_len_df.groupby('emp_length').apply(lambda x:(x['loan_status'] == 'Charged Off').mean()).reset_index(name='charge off rate')\n",
    "\n",
    "# plot\n",
    "plt.figure(figsize=(12,6))\n",
    "sns.barplot(charge_off_rt.index, charge_off_rt['charge off rate'])\n",
    "plt.xlabel('\\nEmployee tenure')\n",
    "plt.ylabel('Charge off rate')\n",
    "plt.title('Charge off rates by Employee tenure')\n",
    "plt.xticks(charge_off_rt.index, charge_off_rt['emp_length'], rotation=90)\n",
    "plt.tight_layout()\n",
    "plt.show()"
   ]
  },
  {
   "cell_type": "markdown",
   "id": "daea225e",
   "metadata": {},
   "source": [
    "### Insights - Loan default rates by Employee tenure\n",
    "1) There is no significant impact of Employee tenure (how long the borrower has been working) on loan default rates.  \n",
    "2) The default rate of all tenures hover around 14 percent which is the overall loan dfeault rate of the dataset concluding no impact."
   ]
  },
  {
   "cell_type": "code",
   "execution_count": 45,
   "id": "e327ac3f",
   "metadata": {},
   "outputs": [
    {
     "data": {
      "image/png": "[encoded data removed]",
      "text/plain": [
       "<Figure size 864x432 with 1 Axes>"
      ]
     },
     "metadata": {
      "needs_background": "light"
     },
     "output_type": "display_data"
    }
   ],
   "source": [
    "# impact of employee home ownership\n",
    "ho_df = lending_df[['home_ownership', 'loan_status']]\n",
    "\n",
    "# get default rate based on home ownership\n",
    "charge_off_rt = ho_df.groupby('home_ownership').apply(lambda x:(x['loan_status'] == 'Charged Off').mean()).reset_index(name='charge off rate')\n",
    "\n",
    "# plot\n",
    "plt.figure(figsize=(12,6))\n",
    "sns.barplot(charge_off_rt.index, charge_off_rt['charge off rate'])\n",
    "plt.xlabel('\\nHome Ownership')\n",
    "plt.ylabel('Charge off rate')\n",
    "plt.title('Charge off rates by Home ownership')\n",
    "plt.xticks(charge_off_rt.index, charge_off_rt['home_ownership'], rotation=90)\n",
    "plt.tight_layout()\n",
    "plt.show()"
   ]
  },
  {
   "cell_type": "markdown",
   "id": "a4a994a0",
   "metadata": {},
   "source": [
    "### Insights - Loan default rates by Home ownership\n",
    "1) There is no significant impact of Home ownership on loan default rates.   \n",
    "2) The default rates among home owners, home on mortgage or rented borrower hover around the same rates.  \n",
    "3) Borrowers with undisclosed / unknown home ownership status has much higher default rate. about 18 percent.  \n",
    "4) Lenders should be collecting this information to minimise risk\n"
   ]
  },
  {
   "cell_type": "code",
   "execution_count": 47,
   "id": "e881bd47",
   "metadata": {},
   "outputs": [
    {
     "data": {
      "image/png": "[encoded data removed]",
      "text/plain": [
       "<Figure size 864x432 with 1 Axes>"
      ]
     },
     "metadata": {
      "needs_background": "light"
     },
     "output_type": "display_data"
    }
   ],
   "source": [
    "# impact of employee purpose\n",
    "prp_df = lending_df[['purpose', 'loan_status']]\n",
    "\n",
    "# get default rate based on purpose\n",
    "charge_off_rt = prp_df.groupby('purpose').apply(lambda x:(x['loan_status'] == 'Charged Off').mean()).reset_index(name='charge off rate')\n",
    "\n",
    "# plot\n",
    "plt.figure(figsize=(12,6))\n",
    "sns.barplot(charge_off_rt.index, charge_off_rt['charge off rate'])\n",
    "plt.xlabel('\\nPurpose')\n",
    "plt.ylabel('Charge off rate')\n",
    "plt.title('Charge off rates by Purpose')\n",
    "plt.xticks(charge_off_rt.index, charge_off_rt['purpose'], rotation=90)\n",
    "plt.tight_layout()\n",
    "plt.show()"
   ]
  },
  {
   "cell_type": "markdown",
   "id": "8ecf16cc",
   "metadata": {},
   "source": [
    "### Insights - Loan default rates by Home ownership\n",
    "1) There is no significant impact of Home ownership on loan default rates.   \n",
    "2) The default rates among home owners, home on mortgage or rented borrower hover around the same rates.  \n",
    "3) Borrowers with undisclosed / unknown home ownership status has much higher default rate. about 18 percent.  \n",
    "4) Lenders should be collecting this information to minimise risk"
   ]
  },
  {
   "cell_type": "code",
   "execution_count": 70,
   "id": "2279806a",
   "metadata": {},
   "outputs": [
    {
     "data": {
      "image/png": "[encoded data removed]",
      "text/plain": [
       "<Figure size 864x432 with 1 Axes>"
      ]
     },
     "metadata": {
      "needs_background": "light"
     },
     "output_type": "display_data"
    }
   ],
   "source": [
    "# impact of loan term\n",
    "loan_amnt_df = lending_df[['loan_status']]\n",
    "\n",
    "# create a derived field with laon_amnt buckets\n",
    "loan_amnt_df['loan_bckt'] = lending_df['loan_amnt'].apply(lambda x: 'A: 0-5k' if x <= 5000 else\n",
    "                                                 'B: 5-10k' if x > 5000 and x <= 10000 else\n",
    "                                                 'C: 10-15k' if x > 10000 and x <= 15000 else \n",
    "                                                 'D: 15-20k' if x > 15000 and x <= 20000 else\n",
    "                                                 'E: 20-25k' if x > 20000 and x <= 25000 else\n",
    "                                                 'F: 25-30K' if x > 25000 and x <= 30000 else\n",
    "                                                 'G: 30-35k')\n",
    "\n",
    "# get default rate based on loan term and lon amount\n",
    "charge_off_rt = term_df.groupby(['loan_bckt']).apply(lambda x:(x['loan_status'] == 'Charged Off').mean()).reset_index(name='charge off rate')\n",
    "\n",
    "# plot\n",
    "plt.figure(figsize=(12,6))\n",
    "sns.barplot(charge_off_rt.index, charge_off_rt['charge off rate'])\n",
    "plt.xlabel('\\nloan bucket')\n",
    "plt.ylabel('Charge off rate')\n",
    "plt.title('Charge off rates by loan bucket')\n",
    "plt.xticks(charge_off_rt.index, charge_off_rt['loan_bckt'] , rotation=90)\n",
    "plt.tight_layout()\n",
    "plt.show()"
   ]
  },
  {
   "cell_type": "markdown",
   "id": "19180ae3",
   "metadata": {},
   "source": [
    "### Insights - Loan default rates by Loan amount\n",
    "1) Divided the loan amount into 7 buckets with an interval of 5k each.   \n",
    "2) The general trend is that higher the loan amount, higher the default rate.  \n",
    "3) if the loan amount is more than 30k the default rate is above 20 percent"
   ]
  },
  {
   "cell_type": "code",
   "execution_count": 54,
   "id": "489b6a95",
   "metadata": {},
   "outputs": [
    {
     "data": {
      "text/plain": [
       "<AxesSubplot:>"
      ]
     },
     "execution_count": 54,
     "metadata": {},
     "output_type": "execute_result"
    },
    {
     "data": {
      "image/png": "[encoded data removed]",
      "text/plain": [
       "<Figure size 432x288 with 1 Axes>"
      ]
     },
     "metadata": {
      "needs_background": "light"
     },
     "output_type": "display_data"
    }
   ],
   "source": []
  },
  {
   "cell_type": "code",
   "execution_count": 69,
   "id": "3b4068f0",
   "metadata": {},
   "outputs": [
    {
     "data": {
      "text/plain": [
       "116000.0"
      ]
     },
     "execution_count": 69,
     "metadata": {},
     "output_type": "execute_result"
    }
   ],
   "source": [
    "np.quantile(lending_df['annual_inc'],.9)"
   ]
  }
 ],
 "metadata": {
  "kernelspec": {
   "display_name": "Python 3",
   "language": "python",
   "name": "python3"
  },
  "language_info": {
   "codemirror_mode": {
    "name": "ipython",
    "version": 3
   },
   "file_extension": ".py",
   "mimetype": "text/x-python",
   "name": "python",
   "nbconvert_exporter": "python",
   "pygments_lexer": "ipython3",
   "version": "3.8.8"
  }
 },
 "nbformat": 4,
 "nbformat_minor": 5
}
